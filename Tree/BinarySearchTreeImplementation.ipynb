{
 "cells": [
  {
   "cell_type": "markdown",
   "metadata": {},
   "source": [
    "# [WIP]"
   ]
  },
  {
   "cell_type": "markdown",
   "metadata": {},
   "source": [
    "# Tree Node"
   ]
  },
  {
   "cell_type": "code",
   "execution_count": 8,
   "metadata": {},
   "outputs": [],
   "source": [
    "class TreeNode:\n",
    "    def __init__(self, key, val, right = None, left = None, parent = None):\n",
    "        self.key = key\n",
    "        self.val = val\n",
    "        self.left_child = left\n",
    "        self.right_child = right\n",
    "        self.parent = parent\n",
    "    \n",
    "    def has_left_child(self):\n",
    "        return self.left_child\n",
    "    \n",
    "    def has_right_child(self):\n",
    "        return self.right_child\n",
    "    \n",
    "    def is_left_child(self):\n",
    "        return self.parent and self.left_child == self\n",
    "    \n",
    "    def is_right_child(self):\n",
    "        return self.parent and self.right_child == self\n",
    "    \n",
    "    def is_root(self):\n",
    "        return not self.parent\n",
    "    \n",
    "    def is_leaf(self):\n",
    "        return not (self.left_child or self.right_child)\n",
    "    \n",
    "    def has_any_children(self):\n",
    "        return (self.left_child or self.right_child)\n",
    "    \n",
    "    def has_both_children(self):\n",
    "        return self.left_child and self.right_child\n",
    "\n",
    "    def replace_node_data(self,key,value,lc,rc):\n",
    "        self.key = key\n",
    "        self.payload = value\n",
    "        self.left_child = lc\n",
    "        self.right_child = rc\n",
    "        if self.has_left_child():\n",
    "            self.left_child.parent = self\n",
    "        if self.has_right_child():\n",
    "            self.right_child.parent = self\n",
    "    "
   ]
  },
  {
   "cell_type": "markdown",
   "metadata": {},
   "source": [
    "# Binary Search Tree"
   ]
  },
  {
   "cell_type": "code",
   "execution_count": 14,
   "metadata": {},
   "outputs": [],
   "source": [
    "class BinarySearchTree:\n",
    "    \n",
    "    def __init__(self):\n",
    "        self.root = None\n",
    "        self.size = 0\n",
    "        \n",
    "    def length(self):\n",
    "        return self.size\n",
    "    \n",
    "    def __len__(self):\n",
    "        return self.size\n",
    "    \n",
    "    def put(self, key, val):\n",
    "        if self.root:\n",
    "            self._put(key, val, self.root)\n",
    "        else:\n",
    "            self.root = TreeNode(key, val)\n",
    "        self.size = self.size + 1\n",
    "    \n",
    "    def _put(self, key, val, current_node):\n",
    "        if key < current_node.key:\n",
    "            if current_node.has_left_child():\n",
    "                self._put(key, val, current_node.left_child)\n",
    "            else:\n",
    "                current_node.left_child = TreeNode(key, val, parent = current_node)\n",
    "        else:\n",
    "            if current_node.has_right_child():\n",
    "                self._put(key, val, current_node.right_child)\n",
    "            else:\n",
    "                current_node.right_child = TreeNode(key, val, parent = current_node) \n",
    "    \n",
    "    def __setitem__(self,k,v):\n",
    "        return self.put(k,v)\n",
    "        "
   ]
  },
  {
   "cell_type": "code",
   "execution_count": 15,
   "metadata": {},
   "outputs": [
    {
     "ename": "TypeError",
     "evalue": "'BinarySearchTree' object is not subscriptable",
     "output_type": "error",
     "traceback": [
      "\u001b[0;31m---------------------------------------------------------------------------\u001b[0m",
      "\u001b[0;31mTypeError\u001b[0m                                 Traceback (most recent call last)",
      "\u001b[0;32m<ipython-input-15-ca10b1fbb759>\u001b[0m in \u001b[0;36m<module>\u001b[0;34m\u001b[0m\n\u001b[1;32m      5\u001b[0m \u001b[0mmytree\u001b[0m\u001b[0;34m[\u001b[0m\u001b[0;36m2\u001b[0m\u001b[0;34m]\u001b[0m\u001b[0;34m=\u001b[0m\u001b[0;34m\"at\"\u001b[0m\u001b[0;34m\u001b[0m\u001b[0;34m\u001b[0m\u001b[0m\n\u001b[1;32m      6\u001b[0m \u001b[0;34m\u001b[0m\u001b[0m\n\u001b[0;32m----> 7\u001b[0;31m \u001b[0mprint\u001b[0m\u001b[0;34m(\u001b[0m\u001b[0mmytree\u001b[0m\u001b[0;34m[\u001b[0m\u001b[0;36m6\u001b[0m\u001b[0;34m]\u001b[0m\u001b[0;34m)\u001b[0m\u001b[0;34m\u001b[0m\u001b[0;34m\u001b[0m\u001b[0m\n\u001b[0m\u001b[1;32m      8\u001b[0m \u001b[0mprint\u001b[0m\u001b[0;34m(\u001b[0m\u001b[0mmytree\u001b[0m\u001b[0;34m[\u001b[0m\u001b[0;36m2\u001b[0m\u001b[0;34m]\u001b[0m\u001b[0;34m)\u001b[0m\u001b[0;34m\u001b[0m\u001b[0;34m\u001b[0m\u001b[0m\n",
      "\u001b[0;31mTypeError\u001b[0m: 'BinarySearchTree' object is not subscriptable"
     ]
    }
   ],
   "source": [
    "mytree = BinarySearchTree()\n",
    "mytree[3]=\"red\"\n",
    "mytree[4]=\"blue\"\n",
    "mytree[6]=\"yellow\"\n",
    "mytree[2]=\"at\"\n",
    "\n",
    "print(mytree[6])\n",
    "print(mytree[2])"
   ]
  },
  {
   "cell_type": "code",
   "execution_count": null,
   "metadata": {},
   "outputs": [],
   "source": []
  }
 ],
 "metadata": {
  "kernelspec": {
   "display_name": "Python 3",
   "language": "python",
   "name": "python3"
  },
  "language_info": {
   "codemirror_mode": {
    "name": "ipython",
    "version": 3
   },
   "file_extension": ".py",
   "mimetype": "text/x-python",
   "name": "python",
   "nbconvert_exporter": "python",
   "pygments_lexer": "ipython3",
   "version": "3.7.3"
  }
 },
 "nbformat": 4,
 "nbformat_minor": 2
}
