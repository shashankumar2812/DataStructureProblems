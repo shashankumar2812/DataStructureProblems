{
 "cells": [
  {
   "cell_type": "markdown",
   "metadata": {},
   "source": [
    "# [WIP] Binary Heap Implementation\n"
   ]
  },
  {
   "cell_type": "markdown",
   "metadata": {},
   "source": [
    "### Binary Heap Operations\n",
    "\n",
    "* BinaryHeap() creates a new, empty, binary heap.\n",
    "* insert(k) adds a new item to the heap.\n",
    "* find_min() returns the item with the minimum key value, leaving item in the heap.\n",
    "* del_min() returns the item with the minimum key value, removing the item from the heap.\n",
    "* is_empty() returns true if the heap is empty, false otherwise.\n",
    "* size() returns the number of items in the heap.\n",
    "* build_heap(list) builds a new heap from a list of keys."
   ]
  },
  {
   "cell_type": "code",
   "execution_count": 1,
   "metadata": {},
   "outputs": [],
   "source": [
    "class BinaryHeap(object):\n",
    "    def __init__(self):\n",
    "        self.heap_list = [0]\n",
    "        self.current_size = 0\n",
    "        \n",
    "    def insert(self, k):\n",
    "        self.heap_list.append(k)\n",
    "        self.current_size = self.current_size + 1\n",
    "        self.perc_up(self.current_size)\n",
    "        \n",
    "    def size(self):\n",
    "        return len(self.current_size)\n",
    "    \n",
    "    def is_empty(self):\n",
    "        if len(self.current_size) == 0:\n",
    "            return True\n",
    "        else:\n",
    "            return False\n",
    "    \n",
    "    def perc_up(self, i):\n",
    "        \n",
    "        while (i // 2) > 0:\n",
    "            if self.heap_list[i] < self.heap_list [i//2]:           \n",
    "                temp = self.heap_list[i // 2]\n",
    "                self.heap_list[i // 2] = self.heap_list[i]\n",
    "                self.heap_list[i] = temp\n",
    "            \n",
    "            i = i // 2\n",
    "        \n",
    "    def get_heap(self):\n",
    "        return self.heap_list\n",
    "            \n",
    "    def perc_down(self, i):\n",
    "        while (i*2) <=self.current_size:\n",
    "            min_child_idx = self.min_child(i)\n",
    "            if self.heap_list[i] > self.heap_list[min_child_idx] :\n",
    "                temp = self.heap_list[min_child_idx]\n",
    "                self.heap_list[min_child_idx] = self.heap_list[i]\n",
    "                self.heap_list[i] = temp\n",
    "            i = min_child_idx   \n",
    "  \n",
    "    \n",
    "    def find_min(self):\n",
    "        return self.heap_list\n",
    "    \n",
    "    def del_min(self):\n",
    "        return_value = self.heap_list[1]\n",
    "        self.heap_list[1] = self.heap_list[self.current_size]\n",
    "        self.current_size = self.current_size - 1\n",
    "        self.heap_list.pop()\n",
    "        self.perc_down(1)\n",
    "        return return_value\n",
    "        \n",
    "        \n",
    "    \n",
    "    def min_child(self, i):\n",
    "        if i*2+1 > self.current_size:\n",
    "            return i*2\n",
    "        else:\n",
    "            if self.heap_list[i*2] < self.heap_list[i*2+1]:\n",
    "                return i*2\n",
    "            else:\n",
    "                return i*2+1 \n",
    "            \n",
    "    def build_heap(self, hlist):\n",
    "        i = len(hlist) // 2\n",
    "        self.current_size = len(hlist)\n",
    "        self.heap_list = [0] + hlist\n",
    "        while(i > 0):\n",
    "            self.perc_down(i)\n",
    "            i = i - 1\n",
    "        "
   ]
  },
  {
   "cell_type": "code",
   "execution_count": 35,
   "metadata": {},
   "outputs": [],
   "source": [
    "heap1=BinaryHeap()\n",
    "heap2 = BinaryHeap()\n",
    "heap3= BinaryHeap()"
   ]
  },
  {
   "cell_type": "code",
   "execution_count": 29,
   "metadata": {},
   "outputs": [],
   "source": [
    "elements = [45, 5, 9, 14, 18, 33, 17, 27, 11, 19, 21]"
   ]
  },
  {
   "cell_type": "code",
   "execution_count": 30,
   "metadata": {},
   "outputs": [],
   "source": [
    "for element  in elements:\n",
    "    heap1.insert(element)"
   ]
  },
  {
   "cell_type": "code",
   "execution_count": 31,
   "metadata": {},
   "outputs": [
    {
     "data": {
      "text/plain": [
       "[0, 5, 11, 9, 14, 18, 33, 17, 45, 27, 19, 21]"
      ]
     },
     "execution_count": 31,
     "metadata": {},
     "output_type": "execute_result"
    }
   ],
   "source": [
    "heap1.get_heap()"
   ]
  },
  {
   "cell_type": "code",
   "execution_count": 32,
   "metadata": {},
   "outputs": [],
   "source": [
    "heap2.build_heap(elements)"
   ]
  },
  {
   "cell_type": "code",
   "execution_count": 33,
   "metadata": {},
   "outputs": [
    {
     "data": {
      "text/plain": [
       "[0, 5, 11, 9, 14, 18, 33, 17, 27, 45, 19, 21]"
      ]
     },
     "execution_count": 33,
     "metadata": {},
     "output_type": "execute_result"
    }
   ],
   "source": [
    "heap2.get_heap()"
   ]
  },
  {
   "cell_type": "code",
   "execution_count": 34,
   "metadata": {},
   "outputs": [
    {
     "data": {
      "text/plain": [
       "False"
      ]
     },
     "execution_count": 34,
     "metadata": {},
     "output_type": "execute_result"
    }
   ],
   "source": [
    "heap1.get_heap() == heap2.get_heap()"
   ]
  },
  {
   "cell_type": "code",
   "execution_count": 38,
   "metadata": {},
   "outputs": [],
   "source": [
    "list3 = [9,6,5,2,3, 20]\n",
    "heap3.build_heap(list3)"
   ]
  },
  {
   "cell_type": "code",
   "execution_count": 39,
   "metadata": {},
   "outputs": [
    {
     "data": {
      "text/plain": [
       "[0, 2, 3, 5, 6, 9, 20]"
      ]
     },
     "execution_count": 39,
     "metadata": {},
     "output_type": "execute_result"
    }
   ],
   "source": [
    "heap3.get_heap()"
   ]
  },
  {
   "cell_type": "code",
   "execution_count": null,
   "metadata": {},
   "outputs": [],
   "source": []
  }
 ],
 "metadata": {
  "kernelspec": {
   "display_name": "Python 3",
   "language": "python",
   "name": "python3"
  },
  "language_info": {
   "codemirror_mode": {
    "name": "ipython",
    "version": 3
   },
   "file_extension": ".py",
   "mimetype": "text/x-python",
   "name": "python",
   "nbconvert_exporter": "python",
   "pygments_lexer": "ipython3",
   "version": "3.7.3"
  }
 },
 "nbformat": 4,
 "nbformat_minor": 1
}
