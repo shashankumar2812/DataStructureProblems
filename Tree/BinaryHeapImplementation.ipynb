{
 "cells": [
  {
   "cell_type": "markdown",
   "metadata": {},
   "source": [
    "# [WIP] Binary Heap Implementation\n"
   ]
  },
  {
   "cell_type": "markdown",
   "metadata": {},
   "source": [
    "### Binary Heap Operations\n",
    "\n",
    "* BinaryHeap() creates a new, empty, binary heap.\n",
    "* insert(k) adds a new item to the heap.\n",
    "* find_min() returns the item with the minimum key value, leaving item in the heap.\n",
    "* del_min() returns the item with the minimum key value, removing the item from the heap.\n",
    "* is_empty() returns true if the heap is empty, false otherwise.\n",
    "* size() returns the number of items in the heap.\n",
    "* build_heap(list) builds a new heap from a list of keys."
   ]
  },
  {
   "cell_type": "code",
   "execution_count": 29,
   "metadata": {},
   "outputs": [],
   "source": [
    "class BinaryHeap(object):\n",
    "    def __init__(self):\n",
    "        self.heap_list = [0]\n",
    "        self.current_size = 0\n",
    "        \n",
    "    def insert(self, k):\n",
    "        self.heap_list.append(k)\n",
    "        self.current_size = self.current_size + 1\n",
    "        self.perc_up(self.current_size)\n",
    "        \n",
    "        \n",
    "    def perc_up(self, i):\n",
    "        \n",
    "        while (i // 2) > 0:\n",
    "            if self.heap_list[i] < self.heap_list [i//2]:           \n",
    "                temp = self.heap_list[i // 2]\n",
    "                self.heap_list[i // 2] = self.heap_list[i]\n",
    "                self.heap_list[i] = temp\n",
    "            \n",
    "            i = i // 2\n",
    "        \n",
    "    def get_heap(self):\n",
    "        return self.heap_list\n",
    "            \n",
    "    def perc_down(self, i):\n",
    "        while (i*2) <=self.current_size:\n",
    "            min_child_idx = self.min_child(i)\n",
    "            if self.heap_list[i] > self.heap_list[min_child_idx] :\n",
    "                temp = self.heap_list[min_child_idx]\n",
    "                self.heap_list[min_child_idx] = self.heap_list[i]\n",
    "                self.heap_list[i] = temp\n",
    "            i = min_child_idx   \n",
    "  \n",
    "    \n",
    "    def find_min(self):\n",
    "        pass\n",
    "    \n",
    "    def del_min(self):\n",
    "        return_value = self.heap_list[1]\n",
    "        self.heap_list[1] = self.heap_list[self.current_size]\n",
    "        self.current_size = self.current_size - 1\n",
    "        self.heap_list.pop()\n",
    "        self.perc_down(1)\n",
    "        return return_value\n",
    "        \n",
    "        \n",
    "    \n",
    "    def min_child(self, i):\n",
    "        if i*2+1 > self.current_size:\n",
    "            return i*2\n",
    "        else:\n",
    "            if self.heap_list[i*2] < self.heap_list[i*2+1]:\n",
    "                return i*2\n",
    "            else:\n",
    "                return i*2+1\n",
    "\n",
    " \n",
    "                \n",
    "            \n",
    "            \n",
    "    \n",
    "    \n",
    "\n",
    "    \n",
    "    \n",
    "        \n",
    "    "
   ]
  },
  {
   "cell_type": "code",
   "execution_count": 38,
   "metadata": {},
   "outputs": [],
   "source": [
    "bt=BinaryHeap()"
   ]
  },
  {
   "cell_type": "code",
   "execution_count": 39,
   "metadata": {},
   "outputs": [],
   "source": [
    "elements = [45, 5, 9, 14, 18, 33, 17, 27, 11, 19, 21]"
   ]
  },
  {
   "cell_type": "code",
   "execution_count": 40,
   "metadata": {},
   "outputs": [],
   "source": [
    "for element  in elements:\n",
    "    bt.insert(element)"
   ]
  },
  {
   "cell_type": "code",
   "execution_count": 41,
   "metadata": {},
   "outputs": [
    {
     "data": {
      "text/plain": [
       "[0, 5, 11, 9, 14, 18, 33, 17, 45, 27, 19, 21]"
      ]
     },
     "execution_count": 41,
     "metadata": {},
     "output_type": "execute_result"
    }
   ],
   "source": [
    "bt.get_heap()"
   ]
  },
  {
   "cell_type": "code",
   "execution_count": 42,
   "metadata": {},
   "outputs": [
    {
     "data": {
      "text/plain": [
       "5"
      ]
     },
     "execution_count": 42,
     "metadata": {},
     "output_type": "execute_result"
    }
   ],
   "source": [
    "bt.del_min()"
   ]
  },
  {
   "cell_type": "code",
   "execution_count": 43,
   "metadata": {},
   "outputs": [
    {
     "data": {
      "text/plain": [
       "[0, 9, 11, 17, 14, 18, 33, 21, 45, 27, 19]"
      ]
     },
     "execution_count": 43,
     "metadata": {},
     "output_type": "execute_result"
    }
   ],
   "source": [
    "bt.get_heap()"
   ]
  },
  {
   "cell_type": "code",
   "execution_count": 44,
   "metadata": {},
   "outputs": [
    {
     "data": {
      "text/plain": [
       "9"
      ]
     },
     "execution_count": 44,
     "metadata": {},
     "output_type": "execute_result"
    }
   ],
   "source": [
    "bt.del_min()"
   ]
  },
  {
   "cell_type": "code",
   "execution_count": 45,
   "metadata": {},
   "outputs": [
    {
     "data": {
      "text/plain": [
       "[0, 11, 14, 17, 19, 18, 33, 21, 45, 27]"
      ]
     },
     "execution_count": 45,
     "metadata": {},
     "output_type": "execute_result"
    }
   ],
   "source": [
    "bt.get_heap()"
   ]
  },
  {
   "cell_type": "code",
   "execution_count": null,
   "metadata": {},
   "outputs": [],
   "source": []
  }
 ],
 "metadata": {
  "kernelspec": {
   "display_name": "Python 3",
   "language": "python",
   "name": "python3"
  },
  "language_info": {
   "codemirror_mode": {
    "name": "ipython",
    "version": 3
   },
   "file_extension": ".py",
   "mimetype": "text/x-python",
   "name": "python",
   "nbconvert_exporter": "python",
   "pygments_lexer": "ipython3",
   "version": "3.7.3"
  }
 },
 "nbformat": 4,
 "nbformat_minor": 1
}
