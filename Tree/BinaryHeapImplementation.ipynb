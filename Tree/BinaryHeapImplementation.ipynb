{
 "cells": [
  {
   "cell_type": "markdown",
   "metadata": {},
   "source": [
    "# [WIP] Binary Heap Implementation\n"
   ]
  },
  {
   "cell_type": "markdown",
   "metadata": {},
   "source": [
    "### Binary Heap Operations\n",
    "\n",
    "* BinaryHeap() creates a new, empty, binary heap.\n",
    "* insert(k) adds a new item to the heap.\n",
    "* find_min() returns the item with the minimum key value, leaving item in the heap.\n",
    "* del_min() returns the item with the minimum key value, removing the item from the heap.\n",
    "* is_empty() returns true if the heap is empty, false otherwise.\n",
    "* size() returns the number of items in the heap.\n",
    "* build_heap(list) builds a new heap from a list of keys."
   ]
  },
  {
   "cell_type": "code",
   "execution_count": 1,
   "metadata": {},
   "outputs": [],
   "source": [
    "class BinaryHeap(object):\n",
    "    def __init__(self):\n",
    "        self.heap_list = [0]\n",
    "        self.current_size = 0\n",
    "        \n",
    "    def insert(self, k):\n",
    "        self.heap_list.append(k)\n",
    "        self.current_size = self.current_size + 1\n",
    "        self.perc_up(k)\n",
    "        \n",
    "        \n",
    "    def perc_up(self, i):\n",
    "        \n",
    "        while (i // 2) > 0:\n",
    "            if self.heap_list[i] < self.heap_list [i//2]:           \n",
    "                temp = self.heap_list [i]\n",
    "                self.heap_list[i] = self.heap_list[i//2]\n",
    "                self.heap_list[i//2] = temp\n",
    "            \n",
    "            i = i // 2\n",
    "\n",
    "    def get_heap(self):\n",
    "        return self.heap_list\n",
    "            \n",
    "    def perc_down(self):\n",
    "        pass\n",
    "    \n",
    "    def find_min(self):\n",
    "        pass\n",
    "    \n",
    "    def del_min(self):\n",
    "        pass\n",
    "    \n",
    "    def min_child(self):\n",
    "        pass        \n",
    "                \n",
    "            \n",
    "            \n",
    "    \n",
    "    \n",
    "\n",
    "    \n",
    "    \n",
    "        \n",
    "    "
   ]
  },
  {
   "cell_type": "code",
   "execution_count": 2,
   "metadata": {},
   "outputs": [],
   "source": [
    "bt=BinaryHeap()"
   ]
  },
  {
   "cell_type": "code",
   "execution_count": 3,
   "metadata": {},
   "outputs": [],
   "source": [
    "for i in range(20):\n",
    "    bt.insert(i)"
   ]
  },
  {
   "cell_type": "code",
   "execution_count": 4,
   "metadata": {},
   "outputs": [
    {
     "data": {
      "text/plain": [
       "[0, 0, 1, 2, 3, 4, 5, 6, 7, 8, 9, 10, 11, 12, 13, 14, 15, 16, 17, 18, 19]"
      ]
     },
     "execution_count": 4,
     "metadata": {},
     "output_type": "execute_result"
    }
   ],
   "source": [
    "bt.get_heap()"
   ]
  },
  {
   "cell_type": "code",
   "execution_count": null,
   "metadata": {},
   "outputs": [],
   "source": []
  }
 ],
 "metadata": {
  "kernelspec": {
   "display_name": "Python 3",
   "language": "python",
   "name": "python3"
  },
  "language_info": {
   "codemirror_mode": {
    "name": "ipython",
    "version": 3
   },
   "file_extension": ".py",
   "mimetype": "text/x-python",
   "name": "python",
   "nbconvert_exporter": "python",
   "pygments_lexer": "ipython3",
   "version": "3.7.3"
  }
 },
 "nbformat": 4,
 "nbformat_minor": 1
}
