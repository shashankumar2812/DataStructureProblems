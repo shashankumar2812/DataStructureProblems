{
 "cells": [
  {
   "cell_type": "code",
   "execution_count": 67,
   "metadata": {},
   "outputs": [],
   "source": [
    "class BinaryHeap:\n",
    "    def __init__(self):\n",
    "        self.heap_list=[0]\n",
    "        self.current_size=0\n",
    "    \n",
    "    def __len__(self):\n",
    "        return self.current_size\n",
    "    \n",
    "    def insert(self, k):\n",
    "        self.heap_list.append(k)\n",
    "        self.current_size+=1\n",
    "        self.perc_up(self.current_size)\n",
    "    \n",
    "    def perc_up(self, i):\n",
    "        while(i//2>0):\n",
    "            if self.heap_list[i]<self.heap_list[i//2]:\n",
    "                temp=self.heap_list[i]\n",
    "                self.heap_list[i]=self.heap_list[i//2]\n",
    "                self.heap_list[i//2]=temp\n",
    "            i=i//2\n",
    "            \n",
    "    def del_min(self):\n",
    "        ret_val=self.heap_list[1]\n",
    "        self.heap_list[1]=self.heap_list[self.current_size]\n",
    "        self.current_size-=1\n",
    "        self.heap_list.pop()\n",
    "        self.perc_down(1)\n",
    "        \n",
    "    def find_min_child(self, i):\n",
    "        if i*2+1>self.current_size:\n",
    "            return i*2\n",
    "        else:\n",
    "            if self.heap_list[i*2]<self.heap_list[i*2+1]:\n",
    "                return i*2\n",
    "            else:\n",
    "                return i*2+1\n",
    "            \n",
    "    def perc_down(self, i):\n",
    "        while(i*2)<=self.current_size:\n",
    "            mc=self.find_min_child(i)\n",
    "            if self.heap_list[i]>self.heap_list[mc]:\n",
    "                temp=self.heap_list[i]\n",
    "                self.heap_list[i]=self.heap_list[mc]\n",
    "                self.heap_list[mc]=temp\n",
    "            i=mc\n",
    "            \n",
    "    def build_heap(self,alist):\n",
    "        i = len(alist) // 2\n",
    "        self.current_size = len(alist)\n",
    "        self.heap_list = [0] + alist[:]\n",
    "        while (i > 0):\n",
    "            self.perc_down(i)\n",
    "            i = i - 1\n",
    "            \n",
    "            \n",
    "    def get_heap(self):\n",
    "        return self.heap_list\n",
    "    \n",
    "    def find_min(self):\n",
    "        return self.heap_list[1]"
   ]
  },
  {
   "cell_type": "code",
   "execution_count": 68,
   "metadata": {},
   "outputs": [],
   "source": [
    "elements = [5, 9, 11, 14, 18,-10, 19, 21, 33, 17, 27]"
   ]
  },
  {
   "cell_type": "code",
   "execution_count": 69,
   "metadata": {},
   "outputs": [],
   "source": [
    "heap1=BinaryHeap()"
   ]
  },
  {
   "cell_type": "code",
   "execution_count": 70,
   "metadata": {},
   "outputs": [],
   "source": [
    "heap1.build_heap(elements)"
   ]
  },
  {
   "cell_type": "code",
   "execution_count": 71,
   "metadata": {},
   "outputs": [
    {
     "data": {
      "text/plain": [
       "[0, -10, 9, 5, 14, 17, 11, 19, 21, 33, 18, 27]"
      ]
     },
     "execution_count": 71,
     "metadata": {},
     "output_type": "execute_result"
    }
   ],
   "source": [
    "heap1.get_heap()"
   ]
  },
  {
   "cell_type": "code",
   "execution_count": 72,
   "metadata": {},
   "outputs": [
    {
     "data": {
      "text/plain": [
       "-10"
      ]
     },
     "execution_count": 72,
     "metadata": {},
     "output_type": "execute_result"
    }
   ],
   "source": [
    "heap1.find_min()"
   ]
  },
  {
   "cell_type": "code",
   "execution_count": null,
   "metadata": {},
   "outputs": [],
   "source": []
  }
 ],
 "metadata": {
  "kernelspec": {
   "display_name": "Python 3",
   "language": "python",
   "name": "python3"
  },
  "language_info": {
   "codemirror_mode": {
    "name": "ipython",
    "version": 3
   },
   "file_extension": ".py",
   "mimetype": "text/x-python",
   "name": "python",
   "nbconvert_exporter": "python",
   "pygments_lexer": "ipython3",
   "version": "3.7.3"
  }
 },
 "nbformat": 4,
 "nbformat_minor": 2
}
