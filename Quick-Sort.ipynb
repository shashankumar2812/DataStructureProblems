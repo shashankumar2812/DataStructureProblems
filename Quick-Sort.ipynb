{
 "cells": [
  {
   "cell_type": "markdown",
   "metadata": {},
   "source": [
    "# Problem\n",
    "\n",
    "## Implementation of Quick Sort\n",
    "\n",
    "A quick sort first selects a value, which is called the pivot value. Although there are many different ways to choose the pivot value, we will simply use the first item in the list. The role of the pivot value is to assist with splitting the list. The actual position where the pivot value belongs in the final sorted list, commonly called the split point, will be used to divide the list for subsequent calls to the quick sort.\n"
   ]
  },
  {
   "cell_type": "code",
   "execution_count": 6,
   "metadata": {},
   "outputs": [],
   "source": [
    "def quick_sort(arr):\n",
    "    quick_sort_help(arr,0,len(arr)-1)\n",
    "    return arr\n",
    "\n",
    "def quick_sort_help(arr, first, last):\n",
    "    if first<last:\n",
    "        split_point=partition(arr, first, last)\n",
    "        quick_sort_help(arr, first, split_point-1)\n",
    "        quick_sort_help(arr, split_point+1, last)\n",
    "    \n",
    "def partition(arr, first, last):\n",
    "    pivot_val=arr[first]\n",
    "    left=first+1\n",
    "    right=last\n",
    "    done=False\n",
    "    while not done:\n",
    "        \n",
    "        while left<right and arr[left]<=pivot_val:\n",
    "            left+=1\n",
    "        while left<right and arr[right]>=pivot_val:\n",
    "            right-=1\n",
    "        if left<right:\n",
    "            arr[left],arr[right]=arr[right], arr[left]\n",
    "        else:\n",
    "            done=True\n",
    "    arr[first], arr[right]=arr[right], arr[first]\n",
    "    return right\n",
    "        \n",
    "        \n",
    "    \n",
    "        \n",
    "   "
   ]
  },
  {
   "cell_type": "code",
   "execution_count": 7,
   "metadata": {},
   "outputs": [
    {
     "data": {
      "text/plain": [
       "[1, -10, 2, 1, 6, 5, 7, 8, 4, 20, 13, 3]"
      ]
     },
     "execution_count": 7,
     "metadata": {},
     "output_type": "execute_result"
    }
   ],
   "source": [
    "arr = [3,1,2,13,4,6,5,7,8,1,20,-10]\n",
    "quick_sort(arr)\n"
   ]
  },
  {
   "cell_type": "code",
   "execution_count": null,
   "metadata": {},
   "outputs": [],
   "source": []
  }
 ],
 "metadata": {
  "kernelspec": {
   "display_name": "Python 3",
   "language": "python",
   "name": "python3"
  },
  "language_info": {
   "codemirror_mode": {
    "name": "ipython",
    "version": 3
   },
   "file_extension": ".py",
   "mimetype": "text/x-python",
   "name": "python",
   "nbconvert_exporter": "python",
   "pygments_lexer": "ipython3",
   "version": "3.7.3"
  }
 },
 "nbformat": 4,
 "nbformat_minor": 2
}
