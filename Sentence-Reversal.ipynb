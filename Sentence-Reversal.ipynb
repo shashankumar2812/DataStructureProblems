{
 "cells": [
  {
   "cell_type": "markdown",
   "metadata": {},
   "source": [
    "# Problem\n",
    "\n",
    "Reverse a sentence. e.g. \"Life is good\" should become good is Life"
   ]
  },
  {
   "cell_type": "markdown",
   "metadata": {},
   "source": [
    "## Solution 1"
   ]
  },
  {
   "cell_type": "code",
   "execution_count": 30,
   "metadata": {},
   "outputs": [],
   "source": [
    "def reverse_sentence_1(sentence):\n",
    "    stripped_sentence = sentence.strip()\n",
    "    if len(stripped_sentence) == 0:\n",
    "        return 0\n",
    "    if len(stripped_sentence) == 1:\n",
    "        return stripped_sentence\n",
    "    word_list = stripped_sentence.split()\n",
    "    return \" \".join(list(reversed(word_list)))\n",
    "    "
   ]
  },
  {
   "cell_type": "code",
   "execution_count": 31,
   "metadata": {},
   "outputs": [
    {
     "data": {
      "text/plain": [
       "'good is Life'"
      ]
     },
     "execution_count": 31,
     "metadata": {},
     "output_type": "execute_result"
    }
   ],
   "source": [
    "sentence= \"Life is good\"\n",
    "reverse_sentence_1(sentence)"
   ]
  },
  {
   "cell_type": "markdown",
   "metadata": {},
   "source": [
    "## Solution 2"
   ]
  },
  {
   "cell_type": "code",
   "execution_count": 32,
   "metadata": {},
   "outputs": [],
   "source": [
    "def reverse_sentence_2(sentence):\n",
    "    stripped_sentence = sentence.strip()\n",
    "    if len(stripped_sentence) == 0:\n",
    "        return 0\n",
    "    if len(stripped_sentence) == 1:\n",
    "        return stripped_sentence\n",
    "    word_list = stripped_sentence.split()\n",
    "    i = len(word_list) - 1\n",
    "    reverse = []\n",
    "    while(i>=0):\n",
    "        reverse.append(word_list[i])\n",
    "        i-=1\n",
    "    return \" \".join(reverse)"
   ]
  },
  {
   "cell_type": "code",
   "execution_count": 33,
   "metadata": {},
   "outputs": [
    {
     "data": {
      "text/plain": [
       "'good is Life'"
      ]
     },
     "execution_count": 33,
     "metadata": {},
     "output_type": "execute_result"
    }
   ],
   "source": [
    "reverse_sentence_2(sentence)"
   ]
  },
  {
   "cell_type": "markdown",
   "metadata": {},
   "source": [
    "## Solution 3"
   ]
  },
  {
   "cell_type": "code",
   "execution_count": 34,
   "metadata": {},
   "outputs": [],
   "source": [
    "def reverse_sentence_3(sentence):\n",
    "    stripped_sentence = sentence.strip()\n",
    "    if len(stripped_sentence) == 0:\n",
    "        return 0\n",
    "    if len(stripped_sentence) == 1:\n",
    "        return stripped_sentence\n",
    "    word_list = stripped_sentence.split()\n",
    "    reverse = []\n",
    "    for i in range(len(word_list)-1,-1, -1):\n",
    "        reverse.append(word_list[i])\n",
    "    return \" \".join(reverse)"
   ]
  },
  {
   "cell_type": "code",
   "execution_count": 35,
   "metadata": {},
   "outputs": [
    {
     "data": {
      "text/plain": [
       "'good is Life'"
      ]
     },
     "execution_count": 35,
     "metadata": {},
     "output_type": "execute_result"
    }
   ],
   "source": [
    "reverse_sentence_3(sentence)"
   ]
  },
  {
   "cell_type": "markdown",
   "metadata": {},
   "source": [
    "## Solution 4"
   ]
  },
  {
   "cell_type": "code",
   "execution_count": 36,
   "metadata": {},
   "outputs": [],
   "source": [
    "def reverse_sentence_4(sentence):\n",
    "    stripped_sentence = sentence.strip()\n",
    "    if len(stripped_sentence) == 0:\n",
    "        return 0\n",
    "    if len(stripped_sentence) == 1:\n",
    "        return stripped_sentence\n",
    "    word_list = stripped_sentence.split()\n",
    "    reverse = []\n",
    "    for i in range(len(word_list)-1,-1, -1):\n",
    "        reverse.append(word_list[i])\n",
    "    return \" \".join(reverse)"
   ]
  },
  {
   "cell_type": "code",
   "execution_count": null,
   "metadata": {},
   "outputs": [],
   "source": []
  }
 ],
 "metadata": {
  "kernelspec": {
   "display_name": "Python 3",
   "language": "python",
   "name": "python3"
  },
  "language_info": {
   "codemirror_mode": {
    "name": "ipython",
    "version": 3
   },
   "file_extension": ".py",
   "mimetype": "text/x-python",
   "name": "python",
   "nbconvert_exporter": "python",
   "pygments_lexer": "ipython3",
   "version": "3.7.3"
  }
 },
 "nbformat": 4,
 "nbformat_minor": 2
}
