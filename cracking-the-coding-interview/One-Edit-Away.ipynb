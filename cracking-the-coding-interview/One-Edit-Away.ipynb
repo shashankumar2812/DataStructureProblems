{
 "cells": [
  {
   "cell_type": "code",
   "execution_count": 26,
   "metadata": {},
   "outputs": [],
   "source": [
    "\n",
    "def one_edit_away(string1:str, string2:str)->bool:\n",
    "    if len(string1)==len(string2):\n",
    "        return one_edit_replace(string1,string2)\n",
    "    elif len(string1)+1==len(string2):\n",
    "        return one_edit_insert(string1, string2)\n",
    "    elif len(string1)-1==len(string2):\n",
    "        return one_edit_insert(string2,string1)\n",
    "    else:\n",
    "        return False\n",
    "    \n",
    "def one_edit_replace(string1:str, string2:str)->bool:\n",
    "    found_diff=False\n",
    "    index=0\n",
    "    while(index<len(string1)):\n",
    "        if string1[index]!=string2[index]:\n",
    "            if found_diff:\n",
    "                return False\n",
    "            found_diff=True\n",
    "        index+=1\n",
    "    return True\n",
    "\n",
    "def one_edit_insert(string1:str, string2:str)->bool:\n",
    "    index1=0\n",
    "    index2=0\n",
    "    while((index1<len(string1) and (index2<len(string2)))):\n",
    "        if string1[index1]!=string2[index2]:\n",
    "            if index1!=index2:\n",
    "                return False\n",
    "            index2+=1\n",
    "        else:\n",
    "            index1+=1\n",
    "            index2+=1\n",
    "    return True\n",
    "        "
   ]
  },
  {
   "cell_type": "code",
   "execution_count": 27,
   "metadata": {},
   "outputs": [
    {
     "data": {
      "text/plain": [
       "True"
      ]
     },
     "execution_count": 27,
     "metadata": {},
     "output_type": "execute_result"
    }
   ],
   "source": [
    "string1='pale'\n",
    "string2='palr'\n",
    "one_edit_replace(string1,string2)"
   ]
  },
  {
   "cell_type": "code",
   "execution_count": 40,
   "metadata": {},
   "outputs": [
    {
     "data": {
      "text/plain": [
       "True"
      ]
     },
     "execution_count": 40,
     "metadata": {},
     "output_type": "execute_result"
    }
   ],
   "source": [
    "string1='pale'\n",
    "string2='palee'\n",
    "one_edit_insert(string1,string2)"
   ]
  },
  {
   "cell_type": "code",
   "execution_count": 41,
   "metadata": {},
   "outputs": [
    {
     "data": {
      "text/plain": [
       "True"
      ]
     },
     "execution_count": 41,
     "metadata": {},
     "output_type": "execute_result"
    }
   ],
   "source": [
    "one_edit_away(string1,string2)"
   ]
  },
  {
   "cell_type": "code",
   "execution_count": null,
   "metadata": {},
   "outputs": [],
   "source": []
  }
 ],
 "metadata": {
  "kernelspec": {
   "display_name": "Python 3",
   "language": "python",
   "name": "python3"
  },
  "language_info": {
   "codemirror_mode": {
    "name": "ipython",
    "version": 3
   },
   "file_extension": ".py",
   "mimetype": "text/x-python",
   "name": "python",
   "nbconvert_exporter": "python",
   "pygments_lexer": "ipython3",
   "version": "3.7.3"
  }
 },
 "nbformat": 4,
 "nbformat_minor": 2
}
