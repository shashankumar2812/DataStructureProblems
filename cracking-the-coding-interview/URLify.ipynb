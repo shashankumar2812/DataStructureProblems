{
 "cells": [
  {
   "cell_type": "code",
   "execution_count": 29,
   "metadata": {},
   "outputs": [],
   "source": [
    "def URLify(string, length):\n",
    "    ## Fail first tests\n",
    "    if not string or length<=0:\n",
    "        return -1\n",
    "    modified_string=''\n",
    "    string=string.strip()\n",
    "    idx=0\n",
    "    while idx<length:\n",
    "        if string[idx]==' ':\n",
    "            modified_string+='%20'\n",
    "        else:\n",
    "            modified_string+=string[idx]\n",
    "        idx+=1\n",
    "    return modified_string  "
   ]
  },
  {
   "cell_type": "code",
   "execution_count": 32,
   "metadata": {},
   "outputs": [
    {
     "data": {
      "text/plain": [
       "'my%20awesome%20url'"
      ]
     },
     "execution_count": 32,
     "metadata": {},
     "output_type": "execute_result"
    }
   ],
   "source": [
    "string='   my awesome url   '\n",
    "URLify(string, 14)"
   ]
  },
  {
   "cell_type": "code",
   "execution_count": null,
   "metadata": {},
   "outputs": [],
   "source": []
  },
  {
   "cell_type": "code",
   "execution_count": null,
   "metadata": {},
   "outputs": [],
   "source": []
  }
 ],
 "metadata": {
  "kernelspec": {
   "display_name": "Python 3",
   "language": "python",
   "name": "python3"
  },
  "language_info": {
   "codemirror_mode": {
    "name": "ipython",
    "version": 3
   },
   "file_extension": ".py",
   "mimetype": "text/x-python",
   "name": "python",
   "nbconvert_exporter": "python",
   "pygments_lexer": "ipython3",
   "version": "3.7.3"
  }
 },
 "nbformat": 4,
 "nbformat_minor": 2
}
