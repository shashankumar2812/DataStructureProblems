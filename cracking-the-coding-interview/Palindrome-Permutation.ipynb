{
 "cells": [
  {
   "cell_type": "code",
   "execution_count": 23,
   "metadata": {},
   "outputs": [],
   "source": [
    "def palidrome_permutation(string):\n",
    "    string=string.replace(' ','')\n",
    "    if not string: return -1\n",
    "    string=string.lower()\n",
    "    length=len(string)\n",
    "    if length==1:\n",
    "        return True\n",
    "    print(f\"[DEBUG] {string}\")\n",
    "    char_count_dict={}\n",
    "    for idx, ch in enumerate(string):\n",
    "        if ch not in char_count_dict:\n",
    "            char_count_dict[ch]=1\n",
    "        else:\n",
    "            char_count_dict[ch]+=1\n",
    "    count=0\n",
    "    for k,v in char_count_dict.items():\n",
    "        if v%2!=0:\n",
    "            count+=1\n",
    "    print(f\"[DEBUG] {char_count_dict}\")        \n",
    "    if length%2==0:\n",
    "        if count>0:\n",
    "            return False\n",
    "        return True       \n",
    "    else:\n",
    "        if count!=1:\n",
    "            return False\n",
    "    return True  "
   ]
  },
  {
   "cell_type": "code",
   "execution_count": 25,
   "metadata": {},
   "outputs": [
    {
     "data": {
      "text/plain": [
       "-1"
      ]
     },
     "execution_count": 25,
     "metadata": {},
     "output_type": "execute_result"
    }
   ],
   "source": [
    "string=''\n",
    "palidrome_permutation(string)"
   ]
  },
  {
   "cell_type": "code",
   "execution_count": null,
   "metadata": {},
   "outputs": [],
   "source": []
  },
  {
   "cell_type": "code",
   "execution_count": null,
   "metadata": {},
   "outputs": [],
   "source": []
  }
 ],
 "metadata": {
  "kernelspec": {
   "display_name": "Python 3",
   "language": "python",
   "name": "python3"
  },
  "language_info": {
   "codemirror_mode": {
    "name": "ipython",
    "version": 3
   },
   "file_extension": ".py",
   "mimetype": "text/x-python",
   "name": "python",
   "nbconvert_exporter": "python",
   "pygments_lexer": "ipython3",
   "version": "3.7.3"
  }
 },
 "nbformat": 4,
 "nbformat_minor": 2
}
