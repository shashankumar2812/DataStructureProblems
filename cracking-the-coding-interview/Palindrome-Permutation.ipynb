{
 "cells": [
  {
   "cell_type": "markdown",
   "metadata": {},
   "source": [
    "# Problem\n",
    "Given a string, determine if a permutation of the string could form a palindrome.\n",
    "\n",
    "Example 1:\n",
    "\n",
    "Input: \"code\"\n",
    "\n",
    "Output: false\n",
    "\n",
    "\n",
    "Example 2:\n",
    "\n",
    "Input: \"aab\"\n",
    "\n",
    "Output: true\n",
    "\n",
    "\n",
    "Example 3:\n",
    "\n",
    "Input: \"carerac\"\n",
    "\n",
    "Output: true"
   ]
  },
  {
   "cell_type": "code",
   "execution_count": 4,
   "metadata": {},
   "outputs": [],
   "source": [
    "def palidrome_permutation(string):\n",
    "    string=string.replace(' ','')\n",
    "    if not string: return -1\n",
    "    string=string.lower()\n",
    "    length=len(string)\n",
    "    if length==1:\n",
    "        return True\n",
    "    char_count_dict={}\n",
    "    for idx, ch in enumerate(string):\n",
    "        if ch not in char_count_dict:\n",
    "            char_count_dict[ch]=1\n",
    "        else:\n",
    "            char_count_dict[ch]+=1\n",
    "    count=0\n",
    "    for k,v in char_count_dict.items():\n",
    "        if v%2!=0:\n",
    "            count+=1      \n",
    "    if length%2==0:\n",
    "        if count>0:\n",
    "            return False\n",
    "        return True       \n",
    "    else:\n",
    "        if count!=1:\n",
    "            return False\n",
    "    return True  "
   ]
  },
  {
   "cell_type": "code",
   "execution_count": 5,
   "metadata": {},
   "outputs": [
    {
     "data": {
      "text/plain": [
       "False"
      ]
     },
     "execution_count": 5,
     "metadata": {},
     "output_type": "execute_result"
    }
   ],
   "source": [
    "string='code'\n",
    "palidrome_permutation(string)"
   ]
  },
  {
   "cell_type": "code",
   "execution_count": 6,
   "metadata": {},
   "outputs": [
    {
     "data": {
      "text/plain": [
       "True"
      ]
     },
     "execution_count": 6,
     "metadata": {},
     "output_type": "execute_result"
    }
   ],
   "source": [
    "string='aab'\n",
    "palidrome_permutation(string)"
   ]
  },
  {
   "cell_type": "code",
   "execution_count": null,
   "metadata": {},
   "outputs": [],
   "source": []
  }
 ],
 "metadata": {
  "kernelspec": {
   "display_name": "Python 3",
   "language": "python",
   "name": "python3"
  },
  "language_info": {
   "codemirror_mode": {
    "name": "ipython",
    "version": 3
   },
   "file_extension": ".py",
   "mimetype": "text/x-python",
   "name": "python",
   "nbconvert_exporter": "python",
   "pygments_lexer": "ipython3",
   "version": "3.7.3"
  }
 },
 "nbformat": 4,
 "nbformat_minor": 2
}
