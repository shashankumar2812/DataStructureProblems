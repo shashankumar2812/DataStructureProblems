{
 "cells": [
  {
   "cell_type": "code",
   "execution_count": 87,
   "metadata": {},
   "outputs": [
    {
     "name": "stdout",
     "output_type": "stream",
     "text": [
      "Node:  A is connected to ['B', 'C']\n",
      "Node:  B is connected to ['A', 'D', 'E']\n",
      "Node:  C is connected to ['A', 'F']\n",
      "Node:  D is connected to ['B']\n",
      "Node:  E is connected to ['B', 'F']\n",
      "Node:  F is connected to ['C', 'E']\n"
     ]
    }
   ],
   "source": [
    "import enum\n",
    "\n",
    "class State:\n",
    "    unvisited=1\n",
    "    visiting=2\n",
    "    visited=3\n",
    "    \n",
    "class Vertex:\n",
    "    def __init__(self, key):\n",
    "        self.id = key\n",
    "        self.connected_to={}\n",
    "        self.state=State.unvisited\n",
    "    \n",
    "    def add_neighbor(self, nbr, weight=0):\n",
    "        self.connected_to[nbr]=weight\n",
    "    \n",
    "    def get_connections(self):\n",
    "        return list(self.connected_to.keys())\n",
    "    \n",
    "    def __str__(self):\n",
    "        return str(self.id) + ' is connected to '+ str([x for x in self.connected_to])\n",
    "    \n",
    "    \n",
    "\n",
    "class Graph:\n",
    "    def __init__(self):\n",
    "        self.vert_list={}\n",
    "        self.num_vertices=0\n",
    "        \n",
    "    def add_vertex(self, key):\n",
    "        self.num_vertices+=1\n",
    "        new_vert=Vertex(key)\n",
    "        self.vert_list[key]=new_vert\n",
    "        return new_vert\n",
    "    \n",
    "    def get_vertex(self, key):\n",
    "        if key in self.vert_list:\n",
    "            return self.vert_list[key]\n",
    "        else:\n",
    "            raise KeyError(f'Vertex: {key} is not present in the Graph')\n",
    "    \n",
    "    def add_edge(self, source, dest, weight=0):\n",
    "        if source not in self.vert_list:\n",
    "            self.add_vertex(source)\n",
    "        if dest not in self.vert_list:\n",
    "            self.add_vertex(dest)\n",
    "        self.vert_list[source].add_neighbor(dest, weight)\n",
    "    \n",
    "    def get_vertices(self):\n",
    "        return list(self.vert_list.keys())\n",
    "    \n",
    "    def __iter__(self):\n",
    "        return iter(self.vert_list.values())\n",
    "    \n",
    "\n",
    "g=Graph()\n",
    "\n",
    "g.add_edge('A','B')\n",
    "g.add_edge('A','C')\n",
    "g.add_edge('B','A')\n",
    "g.add_edge('B','D')\n",
    "g.add_edge('B','E')\n",
    "g.add_edge('C','A')\n",
    "g.add_edge('C','F')\n",
    "g.add_edge('D','B')\n",
    "g.add_edge('E','B')\n",
    "g.add_edge('E','F')\n",
    "g.add_edge('F','C')\n",
    "g.add_edge('F','E')\n",
    "\n",
    "for node in g:\n",
    "    print(f'Node:  {node}')                "
   ]
  },
  {
   "cell_type": "code",
   "execution_count": 88,
   "metadata": {},
   "outputs": [],
   "source": [
    "def bfs(graph, start, end):\n",
    "    if not start: return -1\n",
    "    if not end: return -1\n",
    "    if start==end: return True\n",
    "    visited=set()\n",
    "    queue=[start]\n",
    "    while(queue):\n",
    "        vertex=queue.pop(0)\n",
    "        if vertex==end: \n",
    "            return True\n",
    "        if vertex not in visited:\n",
    "            visited.add(vertex)\n",
    "            queue.extend(set(graph.get_vertex(vertex).get_connections())-visited)\n",
    "    return False"
   ]
  },
  {
   "cell_type": "code",
   "execution_count": 89,
   "metadata": {},
   "outputs": [
    {
     "data": {
      "text/plain": [
       "True"
      ]
     },
     "execution_count": 89,
     "metadata": {},
     "output_type": "execute_result"
    }
   ],
   "source": [
    "bfs(g, 'A', 'E')"
   ]
  },
  {
   "cell_type": "code",
   "execution_count": 90,
   "metadata": {},
   "outputs": [
    {
     "data": {
      "text/plain": [
       "False"
      ]
     },
     "execution_count": 90,
     "metadata": {},
     "output_type": "execute_result"
    }
   ],
   "source": [
    "bfs(g, 'A', 'V')"
   ]
  },
  {
   "cell_type": "code",
   "execution_count": 91,
   "metadata": {},
   "outputs": [],
   "source": [
    "def dfs(graph, start, end):\n",
    "    if not start: return -1\n",
    "    if not end: return -1\n",
    "    if start==end: True\n",
    "    visited=set()\n",
    "    stack=[start]\n",
    "    while(stack):\n",
    "        vertex_name=stack.pop()\n",
    "        vertex=Vertex(vertex_name)\n",
    "        if vertex==end: return True\n",
    "        if vertex visited:\n",
    "            visited.add(vertex)\n",
    "            stack.extend(set(graph.get_vertex(vertex).get_connections())-visited)          \n",
    "    return False\n",
    "            \n",
    "        "
   ]
  },
  {
   "cell_type": "code",
   "execution_count": 95,
   "metadata": {},
   "outputs": [
    {
     "data": {
      "text/plain": [
       "True"
      ]
     },
     "execution_count": 95,
     "metadata": {},
     "output_type": "execute_result"
    }
   ],
   "source": [
    "dfs(g,'A', 'E')"
   ]
  },
  {
   "cell_type": "code",
   "execution_count": 96,
   "metadata": {},
   "outputs": [
    {
     "data": {
      "text/plain": [
       "False"
      ]
     },
     "execution_count": 96,
     "metadata": {},
     "output_type": "execute_result"
    }
   ],
   "source": [
    "dfs(g,'A', 'V')"
   ]
  },
  {
   "cell_type": "code",
   "execution_count": null,
   "metadata": {},
   "outputs": [],
   "source": []
  }
 ],
 "metadata": {
  "kernelspec": {
   "display_name": "Python 3",
   "language": "python",
   "name": "python3"
  },
  "language_info": {
   "codemirror_mode": {
    "name": "ipython",
    "version": 3
   },
   "file_extension": ".py",
   "mimetype": "text/x-python",
   "name": "python",
   "nbconvert_exporter": "python",
   "pygments_lexer": "ipython3",
   "version": "3.7.3"
  }
 },
 "nbformat": 4,
 "nbformat_minor": 2
}
