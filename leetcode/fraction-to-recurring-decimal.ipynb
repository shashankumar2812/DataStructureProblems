{
 "cells": [
  {
   "cell_type": "markdown",
   "metadata": {},
   "source": [
    "# Problem\n",
    "\n",
    "Leetcode Link: https://leetcode.com/problems/fraction-to-recurring-decimal/\n",
    "\n",
    "Given two integers representing the numerator and denominator of a fraction, return the fraction in string format.\n",
    "\n",
    "If the fractional part is repeating, enclose the repeating part in parentheses.\n",
    "\n",
    "Example 1:\n",
    "\n",
    "Input: numerator = 1, denominator = 2\n",
    "\n",
    "Output: \"0.5\"\n",
    "\n",
    "Example 2:\n",
    "\n",
    "Input: numerator = 2, denominator = 1\n",
    "\n",
    "Output: \"2\"\n",
    "\n",
    "Example 3:\n",
    "\n",
    "Input: numerator = 2, denominator = 3\n",
    "\n",
    "Output: \"0.(6)\""
   ]
  },
  {
   "cell_type": "code",
   "execution_count": 95,
   "metadata": {},
   "outputs": [],
   "source": [
    "# Initialize a dict to tracking location of recurring elements\n",
    "# Find quotient and remainder by dividing numerator with denomenator\n",
    "# Add the quotient to the result and add a dot if the remainder is non-zero\n",
    "# Check if the remainder is recurring\n",
    "## Check if the remainder is in dict\n",
    "## Perform divmod(remainder*10, denominator)\n",
    "## Add quotient to the result, add remainder to the dict\n",
    "## Check if the new remainder is present in the dict\n",
    "## if yes, find the start of recurrence\n",
    "## else, add the remainder to the result array\n",
    "# convert the result from array to a str\n",
    "# return result"
   ]
  },
  {
   "cell_type": "code",
   "execution_count": 96,
   "metadata": {},
   "outputs": [],
   "source": [
    "def fraction_to_recurring_decimal(numerator, denominator):\n",
    "    if denominator==0: return -1\n",
    "    q, remainder=divmod(abs(numerator), abs(denominator))\n",
    "    sign='-' if numerator*denominator<0 else ''\n",
    "    result=[sign+str(q)+'.']\n",
    "    recurring={}\n",
    "    while remainder not in recurring:\n",
    "        recurring[remainder]=len(result)\n",
    "        n, remainder=divmod(remainder*10, abs(denominator))\n",
    "        result.append(str(n))\n",
    "    idx=recurring[remainder]\n",
    "    result.insert(idx, '(')\n",
    "    result.append(')')\n",
    "    return ''.join(result).replace('(0)', '').rstrip('.')   "
   ]
  },
  {
   "cell_type": "code",
   "execution_count": 97,
   "metadata": {},
   "outputs": [
    {
     "data": {
      "text/plain": [
       "'-0.5'"
      ]
     },
     "execution_count": 97,
     "metadata": {},
     "output_type": "execute_result"
    }
   ],
   "source": [
    "fraction_to_recurring_decimal(-1,2)"
   ]
  },
  {
   "cell_type": "code",
   "execution_count": null,
   "metadata": {},
   "outputs": [],
   "source": []
  }
 ],
 "metadata": {
  "kernelspec": {
   "display_name": "Python 3",
   "language": "python",
   "name": "python3"
  },
  "language_info": {
   "codemirror_mode": {
    "name": "ipython",
    "version": 3
   },
   "file_extension": ".py",
   "mimetype": "text/x-python",
   "name": "python",
   "nbconvert_exporter": "python",
   "pygments_lexer": "ipython3",
   "version": "3.7.3"
  }
 },
 "nbformat": 4,
 "nbformat_minor": 2
}
