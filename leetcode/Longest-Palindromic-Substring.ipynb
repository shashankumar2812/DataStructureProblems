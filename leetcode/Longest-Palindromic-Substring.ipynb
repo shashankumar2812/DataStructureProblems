{
 "cells": [
  {
   "cell_type": "markdown",
   "metadata": {},
   "source": [
    "# Problem\n",
    "\n",
    "Leetcode Link: https://leetcode.com/explore/interview/card/microsoft/30/array-and-strings/180/\n",
    "\n",
    "Given a string s, find the longest palindromic substring in s. You may assume that the maximum length of s is 1000.\n",
    "\n",
    "Example 1:\n",
    "\n",
    "Input: \"babad\"\n",
    "Output: \"bab\"\n",
    "Note: \"aba\" is also a valid answer.\n",
    "Example 2:\n",
    "\n",
    "Input: \"cbbd\"\n",
    "Output: \"bb\""
   ]
  },
  {
   "cell_type": "markdown",
   "metadata": {},
   "source": [
    "# Brute Force-O(N^3)"
   ]
  },
  {
   "cell_type": "code",
   "execution_count": 90,
   "metadata": {},
   "outputs": [],
   "source": [
    "def find_longest_substring_palindrome_1(s):\n",
    "    if not s: return\n",
    "    start, end=0, 1\n",
    "    max_substring=''\n",
    "    for i in range(len(s)//2):      \n",
    "        while end<len(s):\n",
    "            substring=s[start:end+1]\n",
    "            print(f\"[DEBUG] substring: {substring}\")\n",
    "            if palindrome(substring):\n",
    "                if len(substring)>len(max_substring):\n",
    "                    max_substring=substring\n",
    "            end+=1\n",
    "        start+=1\n",
    "        end=len(+1    \n",
    "    return max_substring\n",
    "\n",
    "def palindrome(s):\n",
    "    for i in range(len(s)//2):\n",
    "        if s[i]!=s[len(s)-1-i]:\n",
    "            return False\n",
    "    return True         "
   ]
  },
  {
   "cell_type": "code",
   "execution_count": 91,
   "metadata": {},
   "outputs": [
    {
     "name": "stdout",
     "output_type": "stream",
     "text": [
      "[DEBUG] substring: ba\n",
      "[DEBUG] substring: bab\n",
      "[DEBUG] substring: baba\n",
      "[DEBUG] substring: babab\n",
      "[DEBUG] substring: ab\n",
      "[DEBUG] substring: aba\n",
      "[DEBUG] substring: abab\n"
     ]
    },
    {
     "data": {
      "text/plain": [
       "'babab'"
      ]
     },
     "execution_count": 91,
     "metadata": {},
     "output_type": "execute_result"
    }
   ],
   "source": [
    "string='babab'\n",
    "find_longest_substring_palindrome_1(string)"
   ]
  },
  {
   "cell_type": "code",
   "execution_count": 89,
   "metadata": {},
   "outputs": [
    {
     "data": {
      "text/plain": [
       "True"
      ]
     },
     "execution_count": 89,
     "metadata": {},
     "output_type": "execute_result"
    }
   ],
   "source": [
    "palindrome('babab')"
   ]
  },
  {
   "cell_type": "markdown",
   "metadata": {},
   "source": [
    "# Dynamic Programming-O(N^2)"
   ]
  },
  {
   "cell_type": "code",
   "execution_count": 84,
   "metadata": {},
   "outputs": [],
   "source": [
    "def find_longest_substring_palindrome_2(s):\n",
    "    if not s: return -1\n",
    "    memo=[[False for i in range(len(s))] for j in range(len(s))]\n",
    "    max_substring=''\n",
    "    start, end=0, 0\n",
    "    for i in range(len(s)):\n",
    "        start, end=i, i\n",
    "        memo[start][end]=True\n",
    "        max_substring=s[start: end+1]\n",
    "    start, end=0,0\n",
    "    for i in range(len(s)-1): \n",
    "        start=i\n",
    "        end=i+1\n",
    "        if s[start]==s[end]:\n",
    "            memo[start][end]=True\n",
    "            \n",
    "            max_substring=s[start: end+1]\n",
    "    start, end=0,0      \n",
    "    for k in range(2,len(s)):\n",
    "        for i in range(len(s)-k):\n",
    "            start=i\n",
    "            end=i+k\n",
    "            if s[start]==s[end] and memo[start+1][end-1]==True:\n",
    "                memo[start][end]=True\n",
    "                max_substring=s[start: end+1]\n",
    "    return max_substring \n",
    "    "
   ]
  },
  {
   "cell_type": "code",
   "execution_count": 85,
   "metadata": {},
   "outputs": [
    {
     "data": {
      "text/plain": [
       "'ababa'"
      ]
     },
     "execution_count": 85,
     "metadata": {},
     "output_type": "execute_result"
    }
   ],
   "source": [
    "find_longest_substring_palindrome_2(string)"
   ]
  },
  {
   "cell_type": "code",
   "execution_count": null,
   "metadata": {},
   "outputs": [],
   "source": []
  }
 ],
 "metadata": {
  "kernelspec": {
   "display_name": "Python 3",
   "language": "python",
   "name": "python3"
  },
  "language_info": {
   "codemirror_mode": {
    "name": "ipython",
    "version": 3
   },
   "file_extension": ".py",
   "mimetype": "text/x-python",
   "name": "python",
   "nbconvert_exporter": "python",
   "pygments_lexer": "ipython3",
   "version": "3.7.3"
  }
 },
 "nbformat": 4,
 "nbformat_minor": 2
}
