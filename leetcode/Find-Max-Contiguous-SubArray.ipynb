{
 "cells": [
  {
   "cell_type": "markdown",
   "metadata": {},
   "source": [
    "# Problem\n",
    "\n",
    "Leetcode Link: https://leetcode.com/problems/maximum-subarray/\n",
    "\n",
    "Given an integer array nums, find the contiguous subarray (containing at least one number) which has the largest sum and return its sum.\n",
    "\n",
    "Example:\n",
    "\n",
    "Input: [-2,1,-3,4,-1,2,1,-5,4],\n",
    "Output: 6\n",
    "Explanation: [4,-1,2,1] has the largest sum = 6.\n",
    "Follow up:\n",
    "\n",
    "If you have figured out the O(n) solution, try coding another solution using the divide and conquer approach, which is more subtle."
   ]
  },
  {
   "cell_type": "code",
   "execution_count": 25,
   "metadata": {},
   "outputs": [],
   "source": [
    "def find_max_subarray(nums):\n",
    "    # Kadane's Algorithm\n",
    "    # iterate each element of the array\n",
    "    # intialize max_sum_till_here, max_sum_so_far=0,0\n",
    "    # max_sum_till_here+=array[i]\n",
    "    # if max_sum_till_here<0: set max_sum_till_here to 0\n",
    "    # if max_sum_till_here>max_sum_so_far: set max_sum_so_far=max_sum_till_here\n",
    "    # return max_sum\n",
    "    if len(nums)==0: return \n",
    "    if len(nums)==1: return nums[0]\n",
    "    max_sum_till_here, max_sum_so_far=0,0\n",
    "    start, end=0,0\n",
    "    for i in range(len(nums)):\n",
    "        max_sum_till_here+=nums[i]\n",
    "        if max_sum_till_here<0:\n",
    "            max_sum_till_here=0\n",
    "            start=i+1\n",
    "        if max_sum_till_here>max_sum_so_far:\n",
    "            max_sum_so_far=max_sum_till_here\n",
    "            end=i\n",
    "        print(f\"start: {start}\")\n",
    "        print(f\"end: {end}\")\n",
    "    return max_sum_so_far\n",
    "            "
   ]
  },
  {
   "cell_type": "code",
   "execution_count": 26,
   "metadata": {},
   "outputs": [
    {
     "name": "stdout",
     "output_type": "stream",
     "text": [
      "start: 1\n",
      "end: 0\n",
      "start: 1\n",
      "end: 1\n",
      "start: 3\n",
      "end: 1\n",
      "start: 3\n",
      "end: 3\n",
      "start: 3\n",
      "end: 3\n",
      "start: 3\n",
      "end: 5\n",
      "start: 3\n",
      "end: 6\n",
      "start: 3\n",
      "end: 6\n",
      "start: 3\n",
      "end: 6\n"
     ]
    },
    {
     "data": {
      "text/plain": [
       "6"
      ]
     },
     "execution_count": 26,
     "metadata": {},
     "output_type": "execute_result"
    }
   ],
   "source": [
    "find_max_subarray(nums=[-2,1,-3,4,-1,2,1,-5,4])"
   ]
  },
  {
   "cell_type": "code",
   "execution_count": 18,
   "metadata": {},
   "outputs": [],
   "source": [
    "def max_subarray(A):\n",
    "    max_so_far = A[0]\n",
    "    elements_so_far = [A[0]]\n",
    "\n",
    "    for x in A[1:]:\n",
    "        print(\"#################\")\n",
    "        print(\"start of the loop\")\n",
    "        print(f\"[DEBUG] x: {x}\")\n",
    "        print(f\"[DEBUG] elements so far : {elements_so_far}\")\n",
    "        if x > sum(elements_so_far + [x]):\n",
    "            elements_so_far = [x]\n",
    "        else:\n",
    "            elements_so_far.append(x)\n",
    "        print(\"#################\")\n",
    "        print(\"#################\")\n",
    "        max_so_far = max(max_so_far, sum(elements_so_far))\n",
    "        print(f\"[DEBUG] elements so far : {elements_so_far}\")\n",
    "        print(f\"[DEBUG] max so far : {max_so_far}\")\n",
    "        print(\"End of the loop\")\n",
    "        print(\"#################\") \n",
    "    return elements_so_far"
   ]
  },
  {
   "cell_type": "code",
   "execution_count": 19,
   "metadata": {},
   "outputs": [
    {
     "name": "stdout",
     "output_type": "stream",
     "text": [
      "#################\n",
      "start of the loop\n",
      "[DEBUG] x: 1\n",
      "[DEBUG] elements so far : [-2]\n",
      "#################\n",
      "#################\n",
      "[DEBUG] elements so far : [1]\n",
      "[DEBUG] max so far : 1\n",
      "End of the loop\n",
      "#################\n",
      "#################\n",
      "start of the loop\n",
      "[DEBUG] x: -3\n",
      "[DEBUG] elements so far : [1]\n",
      "#################\n",
      "#################\n",
      "[DEBUG] elements so far : [1, -3]\n",
      "[DEBUG] max so far : 1\n",
      "End of the loop\n",
      "#################\n",
      "#################\n",
      "start of the loop\n",
      "[DEBUG] x: 4\n",
      "[DEBUG] elements so far : [1, -3]\n",
      "#################\n",
      "#################\n",
      "[DEBUG] elements so far : [4]\n",
      "[DEBUG] max so far : 4\n",
      "End of the loop\n",
      "#################\n",
      "#################\n",
      "start of the loop\n",
      "[DEBUG] x: -1\n",
      "[DEBUG] elements so far : [4]\n",
      "#################\n",
      "#################\n",
      "[DEBUG] elements so far : [4, -1]\n",
      "[DEBUG] max so far : 4\n",
      "End of the loop\n",
      "#################\n",
      "#################\n",
      "start of the loop\n",
      "[DEBUG] x: 2\n",
      "[DEBUG] elements so far : [4, -1]\n",
      "#################\n",
      "#################\n",
      "[DEBUG] elements so far : [4, -1, 2]\n",
      "[DEBUG] max so far : 5\n",
      "End of the loop\n",
      "#################\n",
      "#################\n",
      "start of the loop\n",
      "[DEBUG] x: 1\n",
      "[DEBUG] elements so far : [4, -1, 2]\n",
      "#################\n",
      "#################\n",
      "[DEBUG] elements so far : [4, -1, 2, 1]\n",
      "[DEBUG] max so far : 6\n",
      "End of the loop\n",
      "#################\n",
      "#################\n",
      "start of the loop\n",
      "[DEBUG] x: -5\n",
      "[DEBUG] elements so far : [4, -1, 2, 1]\n",
      "#################\n",
      "#################\n",
      "[DEBUG] elements so far : [4, -1, 2, 1, -5]\n",
      "[DEBUG] max so far : 6\n",
      "End of the loop\n",
      "#################\n",
      "#################\n",
      "start of the loop\n",
      "[DEBUG] x: 4\n",
      "[DEBUG] elements so far : [4, -1, 2, 1, -5]\n",
      "#################\n",
      "#################\n",
      "[DEBUG] elements so far : [4, -1, 2, 1, -5, 4]\n",
      "[DEBUG] max so far : 6\n",
      "End of the loop\n",
      "#################\n"
     ]
    },
    {
     "data": {
      "text/plain": [
       "[4, -1, 2, 1, -5, 4]"
      ]
     },
     "execution_count": 19,
     "metadata": {},
     "output_type": "execute_result"
    }
   ],
   "source": [
    "max_subarray([-2,1,-3,4,-1,2,1,-5,4])"
   ]
  },
  {
   "cell_type": "code",
   "execution_count": null,
   "metadata": {},
   "outputs": [],
   "source": []
  }
 ],
 "metadata": {
  "kernelspec": {
   "display_name": "Python 3",
   "language": "python",
   "name": "python3"
  },
  "language_info": {
   "codemirror_mode": {
    "name": "ipython",
    "version": 3
   },
   "file_extension": ".py",
   "mimetype": "text/x-python",
   "name": "python",
   "nbconvert_exporter": "python",
   "pygments_lexer": "ipython3",
   "version": "3.7.3"
  }
 },
 "nbformat": 4,
 "nbformat_minor": 2
}
