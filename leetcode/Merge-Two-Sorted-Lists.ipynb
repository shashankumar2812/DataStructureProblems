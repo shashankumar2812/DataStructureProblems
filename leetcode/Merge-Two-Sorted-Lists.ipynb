{
 "cells": [
  {
   "cell_type": "markdown",
   "metadata": {},
   "source": [
    "# Problem\n",
    "\n",
    "Leetcode Link: https://leetcode.com/problems/merge-two-sorted-lists/\n",
    "\n",
    "Merge two sorted linked lists and return it as a new list. The new list should be made by splicing together the nodes of the first two lists.\n",
    "\n",
    "Example:\n",
    "\n",
    "Input: 1->2->4, 1->3->4\n",
    "Output: 1->1->2->3->4->4"
   ]
  },
  {
   "cell_type": "code",
   "execution_count": 1,
   "metadata": {},
   "outputs": [],
   "source": [
    "class LinkedList(object):\n",
    "    def __init__(self, value):\n",
    "        self.value=value\n",
    "        self.next=None"
   ]
  },
  {
   "cell_type": "code",
   "execution_count": 2,
   "metadata": {},
   "outputs": [],
   "source": [
    "def merge_list(l1,l2):\n",
    "    head=LinkedList(0)\n",
    "    ptr=head\n",
    "    while True:\n",
    "        if l1 is None and l2 is None:\n",
    "            break\n",
    "        if l1 is None:\n",
    "            ptr.next=l2\n",
    "            break\n",
    "        if l2 is None:\n",
    "            ptr.next=l1\n",
    "            break\n",
    "        else:\n",
    "            lower=0\n",
    "            if l1.value<=l2.value:\n",
    "                lower=l1.value\n",
    "                l1=l1.next\n",
    "            else:\n",
    "                lower=l2.value\n",
    "                l2=l2.next\n",
    "            new_node=LinkedList(lower)\n",
    "            ptr.next=new_node\n",
    "            ptr=ptr.next\n",
    "    return head.next\n",
    "          "
   ]
  },
  {
   "cell_type": "code",
   "execution_count": null,
   "metadata": {},
   "outputs": [],
   "source": []
  }
 ],
 "metadata": {
  "kernelspec": {
   "display_name": "Python 3",
   "language": "python",
   "name": "python3"
  },
  "language_info": {
   "codemirror_mode": {
    "name": "ipython",
    "version": 3
   },
   "file_extension": ".py",
   "mimetype": "text/x-python",
   "name": "python",
   "nbconvert_exporter": "python",
   "pygments_lexer": "ipython3",
   "version": "3.7.3"
  }
 },
 "nbformat": 4,
 "nbformat_minor": 2
}
