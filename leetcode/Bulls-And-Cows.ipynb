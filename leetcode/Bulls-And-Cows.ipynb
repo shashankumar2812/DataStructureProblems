{
 "cells": [
  {
   "cell_type": "markdown",
   "metadata": {},
   "source": [
    "# Problem\n",
    "\n",
    "Leetcode Link: https://leetcode.com/problems/bulls-and-cows/\n",
    "\n",
    "You are playing the following Bulls and Cows game with your friend: You write down a number and ask your friend to guess what the number is. Each time your friend makes a guess, you provide a hint that indicates how many digits in said guess match your secret number exactly in both digit and position (called \"bulls\") and how many digits match the secret number but locate in the wrong position (called \"cows\"). Your friend will use successive guesses and hints to eventually derive the secret number.\n",
    "\n",
    "Write a function to return a hint according to the secret number and friend's guess, use A to indicate the bulls and B to indicate the cows. \n",
    "\n",
    "Please note that both secret number and friend's guess may contain duplicate digits.\n",
    "\n",
    "Example 1:\n",
    "\n",
    "Input: secret = \"1807\", guess = \"7810\"\n",
    "\n",
    "Output: \"1A3B\"\n",
    "\n",
    "Explanation: 1 bull and 3 cows. The bull is 8, the cows are 0, 1 and 7.\n",
    "Example 2:\n",
    "\n",
    "Input: secret = \"1123\", guess = \"0111\"\n",
    "\n",
    "Output: \"1A1B\"\n",
    "\n",
    "Explanation: The 1st 1 in friend's guess is a bull, the 2nd or 3rd 1 is a cow.\n",
    "Note: You may assume that the secret number and your friend's guess only contain digits, and their lengths are always equal."
   ]
  },
  {
   "cell_type": "code",
   "execution_count": 2,
   "metadata": {},
   "outputs": [
    {
     "data": {
      "text/plain": [
       "7"
      ]
     },
     "execution_count": 2,
     "metadata": {},
     "output_type": "execute_result"
    }
   ],
   "source": [
    "class Solution:\n",
    "    def getHint(self, secret: str, guess: str) -> str:\n",
    "        bull_counter, cow_counter=0,0\n",
    "        sec_dict={}\n",
    "        gue_dict={}\n",
    "        for idx in range(len(guess)):\n",
    "            let=guess[idx]\n",
    "            if let==secret[idx]:\n",
    "                bull_counter+=1\n",
    "            else:\n",
    "                if secret[idx] not in sec_dict:\n",
    "                    sec_dict[secret[idx]]=1\n",
    "                else:\n",
    "                    sec_dict[secret[idx]]+=1\n",
    "                if let not in gue_dict:\n",
    "                    gue_dict[let]=1\n",
    "                else:\n",
    "                    gue_dict[let]+=1\n",
    "        for i in gue_dict:\n",
    "            if i in sec_dict:\n",
    "                cow_counter+=min(gue_dict[i], sec_dict[i])\n",
    "        return f\"{str(bull_counter)}A{str(cow_counter)}B\""
   ]
  },
  {
   "cell_type": "code",
   "execution_count": null,
   "metadata": {},
   "outputs": [],
   "source": []
  }
 ],
 "metadata": {
  "kernelspec": {
   "display_name": "Python 3",
   "language": "python",
   "name": "python3"
  },
  "language_info": {
   "codemirror_mode": {
    "name": "ipython",
    "version": 3
   },
   "file_extension": ".py",
   "mimetype": "text/x-python",
   "name": "python",
   "nbconvert_exporter": "python",
   "pygments_lexer": "ipython3",
   "version": "3.7.3"
  }
 },
 "nbformat": 4,
 "nbformat_minor": 2
}
