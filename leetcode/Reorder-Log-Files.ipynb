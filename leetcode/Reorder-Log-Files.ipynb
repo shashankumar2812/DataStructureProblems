{
 "cells": [
  {
   "cell_type": "markdown",
   "metadata": {},
   "source": [
    "# Problem\n",
    "\n",
    "Leetcode Link: https://leetcode.com/problems/reorder-data-in-log-files/\n",
    "\n",
    "You are given an array of logs. Each log is a space-delimited string of words, where the first word is the identifier.\n",
    "\n",
    "There are two types of logs:\n",
    "\n",
    "Letter-logs: All words (except the identifier) consist of lowercase English letters.\n",
    "Digit-logs: All words (except the identifier) consist of digits.\n",
    "Reorder these logs so that:\n",
    "\n",
    "The letter-logs come before all digit-logs.\n",
    "The letter-logs are sorted lexicographically by their contents. If their contents are the same, then sort them lexicographically by their identifiers.\n",
    "The digit-logs maintain their relative ordering.\n",
    "Return the final order of the logs.\n",
    "\n",
    " \n",
    "\n",
    "Example 1:\n",
    "\n",
    "Input: logs = [\"dig1 8 1 5 1\",\"let1 art can\",\"dig2 3 6\",\"let2 own kit dig\",\"let3 art zero\"]\n",
    "Output: [\"let1 art can\",\"let3 art zero\",\"let2 own kit dig\",\"dig1 8 1 5 1\",\"dig2 3 6\"]\n",
    "Explanation:\n",
    "The letter-log contents are all different, so their ordering is \"art can\", \"art zero\", \"own kit dig\".\n",
    "The digit-logs have a relative order of \"dig1 8 1 5 1\", \"dig2 3 6\".\n",
    "Example 2:\n",
    "\n",
    "Input: logs = [\"a1 9 2 3 1\",\"g1 act car\",\"zo4 4 7\",\"ab1 off key dog\",\"a8 act zoo\"]\n",
    "Output: [\"g1 act car\",\"a8 act zoo\",\"ab1 off key dog\",\"a1 9 2 3 1\",\"zo4 4 7\"]\n",
    " \n",
    "\n",
    "Constraints:\n",
    "\n",
    "1 <= logs.length <= 100\n",
    "3 <= logs[i].length <= 100\n",
    "All the tokens of logs[i] are separated by a single space.\n",
    "logs[i] is guaranteed to have an identifier and at least one word after the identifier."
   ]
  },
  {
   "cell_type": "code",
   "execution_count": 14,
   "metadata": {},
   "outputs": [],
   "source": [
    "class Solution:\n",
    "    def reorderLogFiles(self, logs: List[str]) -> List[str]:\n",
    "        digits=[]\n",
    "        letters=[]\n",
    "        for log in logs:\n",
    "            if log.split()[1].isdigit():\n",
    "                digits.append(log)\n",
    "            else:\n",
    "                letters.append(log)\n",
    "        letters=sorted(letters, key=lambda x:x.split()[0])\n",
    "        letters=sorted(letters, key=lambda x:x.split()[1:])\n",
    "        return letters+digits"
   ]
  }
 ],
 "metadata": {
  "kernelspec": {
   "display_name": "Python 3",
   "language": "python",
   "name": "python3"
  },
  "language_info": {
   "codemirror_mode": {
    "name": "ipython",
    "version": 3
   },
   "file_extension": ".py",
   "mimetype": "text/x-python",
   "name": "python",
   "nbconvert_exporter": "python",
   "pygments_lexer": "ipython3",
   "version": "3.7.3"
  }
 },
 "nbformat": 4,
 "nbformat_minor": 2
}
