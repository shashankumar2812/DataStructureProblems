{
 "cells": [
  {
   "cell_type": "code",
   "execution_count": 64,
   "metadata": {},
   "outputs": [],
   "source": [
    "class Bucket:\n",
    "    def __init__(self):\n",
    "        self.bucket_list=[]\n",
    "        \n",
    "    def get(self, key):\n",
    "        for (k,v) in self.bucket_list:\n",
    "            if k==key:\n",
    "                return v\n",
    "        return -1\n",
    "    \n",
    "    def put(self, key, value):\n",
    "        for idx, val in enumerate(self.bucket_list):\n",
    "            if val[0]==key:\n",
    "                self.bucket_list[idx]=(key, value)\n",
    "                return\n",
    "        self.bucket_list.append((key, value))\n",
    "    \n",
    "    def remove(self, key):\n",
    "        for idx, val in enumerate(self.bucket_list):\n",
    "            if val[0]==key:\n",
    "                del self.bucket_list[idx]\n",
    "                return\n",
    "        return -1\n",
    "            \n",
    "\n",
    "class MyHashMap:\n",
    "    def __init__(self):\n",
    "        self.size=2069\n",
    "        self.hash_table=[Bucket()]*self.size\n",
    "        \n",
    "    def _hash(self, key):\n",
    "        return key%self.size\n",
    "    \n",
    "    def put(self, key, value):\n",
    "        index=self._hash(key)\n",
    "        self.hash_table[index].put(key,value)\n",
    "        \n",
    "    def get(self, key):\n",
    "        index=self._hash(key)\n",
    "        return self.hash_table[index].get(key)\n",
    "    \n",
    "    def remove(self, key):\n",
    "        index=self._hash(key)\n",
    "        self.hash_table[index].remove(key)"
   ]
  },
  {
   "cell_type": "code",
   "execution_count": 66,
   "metadata": {},
   "outputs": [],
   "source": [
    "key=5\n",
    "value=555\n",
    "obj = MyHashMap()\n",
    "obj.put(key,value)\n",
    "param_2 = obj.get(key)\n",
    "obj.remove(key)"
   ]
  },
  {
   "cell_type": "code",
   "execution_count": null,
   "metadata": {},
   "outputs": [],
   "source": []
  }
 ],
 "metadata": {
  "kernelspec": {
   "display_name": "Python 3",
   "language": "python",
   "name": "python3"
  },
  "language_info": {
   "codemirror_mode": {
    "name": "ipython",
    "version": 3
   },
   "file_extension": ".py",
   "mimetype": "text/x-python",
   "name": "python",
   "nbconvert_exporter": "python",
   "pygments_lexer": "ipython3",
   "version": "3.7.3"
  }
 },
 "nbformat": 4,
 "nbformat_minor": 2
}
