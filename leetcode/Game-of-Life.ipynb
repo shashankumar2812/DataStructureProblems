{
 "cells": [
  {
   "cell_type": "markdown",
   "metadata": {},
   "source": [
    "# Problem\n",
    "\n",
    "Leetcode Link: https://leetcode.com/problems/game-of-life/\n",
    "\n",
    "According to the Wikipedia's article: \"The Game of Life, also known simply as Life, is a cellular automaton devised by the British mathematician John Horton Conway in 1970.\"\n",
    "\n",
    "Given a board with m by n cells, each cell has an initial state live (1) or dead (0). Each cell interacts with its eight neighbors (horizontal, vertical, diagonal) using the following four rules (taken from the above Wikipedia article):\n",
    "\n",
    "- Any live cell with fewer than two live neighbors dies, as if caused by under-population.\n",
    "- Any live cell with two or three live neighbors lives on to the next generation.\n",
    "- Any live cell with more than three live neighbors dies, as if by over-population..\n",
    "- Any dead cell with exactly three live neighbors becomes a live cell, as if by reproduction.\n",
    "\n",
    "Write a function to compute the next state (after one update) of the board given its current state. The next state is created by applying the above rules simultaneously to every cell in the current state, where births and deaths occur simultaneously.\n",
    "\n",
    "Example:\n",
    "\n",
    "Input: \n",
    "```[\n",
    "  [0,1,0],\n",
    "  [0,0,1],\n",
    "  [1,1,1],\n",
    "  [0,0,0]\n",
    "]\n",
    "Output: \n",
    "[\n",
    "  [0,0,0],\n",
    "  [1,0,1],\n",
    "  [0,1,1],\n",
    "  [0,1,0]\n",
    "]```"
   ]
  },
  {
   "cell_type": "code",
   "execution_count": 39,
   "metadata": {},
   "outputs": [
    {
     "data": {
      "text/plain": [
       "[[0, 1, 0], [0, 0, 1], [1, 1, 1], [0, 0, 0]]"
      ]
     },
     "execution_count": 39,
     "metadata": {},
     "output_type": "execute_result"
    }
   ],
   "source": [
    "board"
   ]
  },
  {
   "cell_type": "code",
   "execution_count": 42,
   "metadata": {},
   "outputs": [],
   "source": [
    "def game_of_life(arr):\n",
    "    # Fail first tests\n",
    "    if not arr: return\n",
    "    rows=len(arr)\n",
    "    cols=len(arr[0])\n",
    "    arr_copy=deepcopy(arr)\n",
    "    for row in range(rows):\n",
    "        for col in range(cols):\n",
    "            live_count=0\n",
    "            neighbors=get_neighbors(arr, row, col)\n",
    "            for x,y in neighbors:\n",
    "                if arr[x][y]==1:\n",
    "                    live_count+=1\n",
    "            if live_count<2:\n",
    "                arr_copy[row][col]=0\n",
    "            elif live_count==3:\n",
    "                arr_copy[row][col]=1\n",
    "            elif live_count>3:\n",
    "                arr_copy[row][col]=0\n",
    "    return arr_copy\n",
    "            \n",
    "            \n",
    "def get_neighbors(arr, x, y):\n",
    "    neighbors=[]\n",
    "    rows=len(arr)\n",
    "    cols=len(arr[0])\n",
    "    if x==0 and y==0:\n",
    "        neighbors=[(0,1),(1,1),(1,0)]\n",
    "    elif x==rows-1 and y==cols-1:\n",
    "        neighbors=[(x-1,y),(x-1,y-1),(x,y-1)]\n",
    "    elif y==cols-1 and x<(rows-1):\n",
    "        neighbors=[(x,y-1),(x-1,y-1),(x+1,y-1), (x-1,y),(x+1,y)]\n",
    "    elif x==(rows-1) and y==0:\n",
    "        neighbors=[(x-1,0),(x-1,y+1),(x,y+1)]\n",
    "    elif x==(rows-1) and y<(cols-1):\n",
    "        neighbors=[(x-1,y-1),(x-1,y),(x-1,y-1), (x,y-1),(x,y+1)]\n",
    "    elif y==0 and x<(rows-1):\n",
    "        neighbors=[(x-1,0),(x+1,0),(x-1,1),(x,1),(x+1,1)]\n",
    "    elif x==0 and y<(cols-1):\n",
    "        neighbors=[(0,y-1),(0,y+1),(1,y-1),(1,y),(1,y+1)]\n",
    "    else:\n",
    "        neighbors=[(x-1,y-1), (x-1,y),(x-1,y+1),(x,y+1),(x,y-1),(x+1,y+1),(x+1,y), (x+1,y-1)]\n",
    "    return neighbors"
   ]
  },
  {
   "cell_type": "code",
   "execution_count": 43,
   "metadata": {},
   "outputs": [
    {
     "data": {
      "text/plain": [
       "[[0, 0, 0], [1, 0, 1], [0, 1, 1], [0, 1, 0]]"
      ]
     },
     "execution_count": 43,
     "metadata": {},
     "output_type": "execute_result"
    }
   ],
   "source": [
    "game_of_life(board)"
   ]
  },
  {
   "cell_type": "code",
   "execution_count": 44,
   "metadata": {},
   "outputs": [
    {
     "data": {
      "text/plain": [
       "{'(', '[', '{'}"
      ]
     },
     "execution_count": 44,
     "metadata": {},
     "output_type": "execute_result"
    }
   ],
   "source": [
    "set('({[')"
   ]
  },
  {
   "cell_type": "code",
   "execution_count": 45,
   "metadata": {},
   "outputs": [],
   "source": [
    "s='(){}[]'"
   ]
  },
  {
   "cell_type": "code",
   "execution_count": 46,
   "metadata": {},
   "outputs": [
    {
     "ename": "AttributeError",
     "evalue": "'str' object has no attribute 'pop'",
     "output_type": "error",
     "traceback": [
      "\u001b[0;31m---------------------------------------------------------------------------\u001b[0m",
      "\u001b[0;31mAttributeError\u001b[0m                            Traceback (most recent call last)",
      "\u001b[0;32m<ipython-input-46-c88c8c48122b>\u001b[0m in \u001b[0;36m<module>\u001b[0;34m\u001b[0m\n\u001b[0;32m----> 1\u001b[0;31m \u001b[0ms\u001b[0m\u001b[0;34m.\u001b[0m\u001b[0mpop\u001b[0m\u001b[0;34m(\u001b[0m\u001b[0;34m)\u001b[0m\u001b[0;34m\u001b[0m\u001b[0;34m\u001b[0m\u001b[0m\n\u001b[0m",
      "\u001b[0;31mAttributeError\u001b[0m: 'str' object has no attribute 'pop'"
     ]
    }
   ],
   "source": [
    "s.pop()\n"
   ]
  },
  {
   "cell_type": "code",
   "execution_count": null,
   "metadata": {},
   "outputs": [],
   "source": []
  }
 ],
 "metadata": {
  "kernelspec": {
   "display_name": "Python 3",
   "language": "python",
   "name": "python3"
  },
  "language_info": {
   "codemirror_mode": {
    "name": "ipython",
    "version": 3
   },
   "file_extension": ".py",
   "mimetype": "text/x-python",
   "name": "python",
   "nbconvert_exporter": "python",
   "pygments_lexer": "ipython3",
   "version": "3.7.3"
  }
 },
 "nbformat": 4,
 "nbformat_minor": 2
}
