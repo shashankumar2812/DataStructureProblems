{
 "cells": [
  {
   "attachments": {},
   "cell_type": "markdown",
   "metadata": {},
   "source": [
    "# Problem\n",
    "\n",
    "Leetcode Link: https://leetcode.com/problems/binary-search/\n",
    "\n",
    "Given a sorted (in ascending order) integer array nums of n elements and a target value, write a function to search target in nums. If target exists, then return its index, otherwise return -1.\n",
    "\n",
    "\n",
    "Example 1:\n",
    "\n",
    "Input: nums = [-1,0,3,5,9,12], target = 9\n",
    "\n",
    "Output: 4\n",
    "\n",
    "Explanation: 9 exists in nums and its index is 4\n",
    "\n",
    "Example 2:\n",
    "\n",
    "Input: nums = [-1,0,3,5,9,12], target = 2\n",
    "\n",
    "Output: -1\n",
    "\n",
    "Explanation: 2 does not exist in nums so return -1\n",
    " \n",
    "\n",
    "Note:\n",
    "\n",
    "- You may assume that all elements in nums are unique.\n",
    "- n will be in the range [1, 10000].\n",
    "- The value of each element in nums will be in the range [-9999, 9999]."
   ]
  },
  {
   "cell_type": "code",
   "execution_count": 48,
   "metadata": {},
   "outputs": [],
   "source": [
    "\n",
    "def search(self,nums: List[int], target: int) -> int:\n",
    "    first, last=0, len(nums)-1\n",
    "    while(first<=last):\n",
    "        mid=(first+last)//2\n",
    "        if nums[mid]==target:\n",
    "            return mid\n",
    "        else:\n",
    "            if nums[mid]>target:\n",
    "                last=mid-1\n",
    "            else:\n",
    "                first=mid+1\n",
    "    return -1   "
   ]
  },
  {
   "cell_type": "code",
   "execution_count": null,
   "metadata": {},
   "outputs": [],
   "source": []
  }
 ],
 "metadata": {
  "kernelspec": {
   "display_name": "Python 3",
   "language": "python",
   "name": "python3"
  },
  "language_info": {
   "codemirror_mode": {
    "name": "ipython",
    "version": 3
   },
   "file_extension": ".py",
   "mimetype": "text/x-python",
   "name": "python",
   "nbconvert_exporter": "python",
   "pygments_lexer": "ipython3",
   "version": "3.7.3"
  }
 },
 "nbformat": 4,
 "nbformat_minor": 2
}
