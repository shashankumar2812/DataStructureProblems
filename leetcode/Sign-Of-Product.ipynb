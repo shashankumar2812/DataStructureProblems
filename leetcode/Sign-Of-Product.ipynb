{
 "cells": [
  {
   "cell_type": "markdown",
   "metadata": {},
   "source": [
    "# Problem\n",
    "\n",
    "Leetcode Link: https://leetcode.com/problems/sign-of-the-product-of-an-array/\n",
    "\n",
    "There is a function signFunc(x) that returns:\n",
    "\n",
    "1 if x is positive.\n",
    "-1 if x is negative.\n",
    "0 if x is equal to 0.\n",
    "You are given an integer array nums. Let product be the product of all values in the array nums.\n",
    "\n",
    "Return signFunc(product).\n",
    "\n",
    " \n",
    "\n",
    "Example 1:\n",
    "\n",
    "Input: nums = [-1,-2,-3,-4,3,2,1]\n",
    "Output: 1\n",
    "Explanation: The product of all values in the array is 144, and signFunc(144) = 1\n",
    "Example 2:\n",
    "\n",
    "Input: nums = [1,5,0,2,-3]\n",
    "Output: 0\n",
    "Explanation: The product of all values in the array is 0, and signFunc(0) = 0\n",
    "Example 3:\n",
    "\n",
    "Input: nums = [-1,1,-1,1,-1]\n",
    "Output: -1\n",
    "Explanation: The product of all values in the array is -1, and signFunc(-1) = -1\n",
    " \n",
    "\n",
    "Constraints:\n",
    "\n",
    "1 <= nums.length <= 1000\n",
    "-100 <= nums[i] <= 100"
   ]
  },
  {
   "cell_type": "code",
   "execution_count": 3,
   "metadata": {},
   "outputs": [],
   "source": [
    "def arraySign(nums) -> int:\n",
    "    product=1\n",
    "    for num in nums:\n",
    "        product=product*num\n",
    "    if product>0:\n",
    "        return 1\n",
    "    if product<0:\n",
    "        return -1\n",
    "    if product==0:\n",
    "        return 0"
   ]
  },
  {
   "cell_type": "code",
   "execution_count": null,
   "metadata": {},
   "outputs": [],
   "source": []
  }
 ],
 "metadata": {
  "kernelspec": {
   "display_name": "Python 3",
   "language": "python",
   "name": "python3"
  },
  "language_info": {
   "codemirror_mode": {
    "name": "ipython",
    "version": 3
   },
   "file_extension": ".py",
   "mimetype": "text/x-python",
   "name": "python",
   "nbconvert_exporter": "python",
   "pygments_lexer": "ipython3",
   "version": "3.7.3"
  }
 },
 "nbformat": 4,
 "nbformat_minor": 2
}
