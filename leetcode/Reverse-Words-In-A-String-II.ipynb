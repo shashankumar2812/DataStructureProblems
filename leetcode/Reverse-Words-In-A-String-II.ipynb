{
 "cells": [
  {
   "cell_type": "markdown",
   "metadata": {},
   "source": [
    "# Problem\n",
    "\n",
    "Leetcode Link: https://leetcode.com/explore/interview/card/microsoft/30/array-and-strings/213/\n",
    "\n",
    "Given an input string , reverse the string word by word. \n",
    "\n",
    "Example:\n",
    "\n",
    "Input:  [\"t\",\"h\",\"e\",\" \",\"s\",\"k\",\"y\",\" \",\"i\",\"s\",\" \",\"b\",\"l\",\"u\",\"e\"]\n",
    "Output: [\"b\",\"l\",\"u\",\"e\",\" \",\"i\",\"s\",\" \",\"s\",\"k\",\"y\",\" \",\"t\",\"h\",\"e\"]\n",
    "Note: \n",
    "\n",
    "A word is defined as a sequence of non-space characters.\n",
    "The input string does not contain leading or trailing spaces.\n",
    "The words are always separated by a single space.\n",
    "Follow up: Could you do it in-place without allocating extra space?"
   ]
  },
  {
   "cell_type": "code",
   "execution_count": 63,
   "metadata": {},
   "outputs": [],
   "source": [
    "def reverse(s):\n",
    "    for i in range(len(s)//2):\n",
    "        s[i], s[len(s)-i-1]=s[len(s)-i-1], s[i]\n",
    "    return s\n",
    "        \n",
    "def reverse_word(s):\n",
    "    if not s: return\n",
    "    s=reverse(s)\n",
    "    start, end=0,0\n",
    "    for i in range(len(s)):\n",
    "        if s[i]==' ':\n",
    "            end=i-1\n",
    "            s[start:end+1]=reverse(s[start:end+1])\n",
    "            start=i+1                    "
   ]
  },
  {
   "cell_type": "code",
   "execution_count": 64,
   "metadata": {},
   "outputs": [],
   "source": [
    "string=[\"t\",\"h\",\"e\",\" \",\"s\",\"k\",\"y\",\" \",\"i\",\"s\",\" \",\"b\",\"l\",\"u\",\"e\"]"
   ]
  },
  {
   "cell_type": "code",
   "execution_count": 65,
   "metadata": {},
   "outputs": [],
   "source": [
    "reverse_word(string)"
   ]
  },
  {
   "cell_type": "code",
   "execution_count": 66,
   "metadata": {},
   "outputs": [
    {
     "data": {
      "text/plain": [
       "['b', 'l', 'u', 'e', ' ', 'i', 's', ' ', 's', 'k', 'y', ' ', 'e', 'h', 't']"
      ]
     },
     "execution_count": 66,
     "metadata": {},
     "output_type": "execute_result"
    }
   ],
   "source": [
    "string"
   ]
  },
  {
   "cell_type": "code",
   "execution_count": null,
   "metadata": {},
   "outputs": [],
   "source": []
  }
 ],
 "metadata": {
  "kernelspec": {
   "display_name": "Python 3",
   "language": "python",
   "name": "python3"
  },
  "language_info": {
   "codemirror_mode": {
    "name": "ipython",
    "version": 3
   },
   "file_extension": ".py",
   "mimetype": "text/x-python",
   "name": "python",
   "nbconvert_exporter": "python",
   "pygments_lexer": "ipython3",
   "version": "3.7.3"
  }
 },
 "nbformat": 4,
 "nbformat_minor": 2
}
