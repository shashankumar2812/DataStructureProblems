{
 "cells": [
  {
   "cell_type": "code",
   "execution_count": 38,
   "metadata": {},
   "outputs": [],
   "source": [
    "class Vertex:\n",
    "    def __init__(self, key):\n",
    "        self.id=key\n",
    "        self.connected_to={}\n",
    "        \n",
    "    def add_neighbor(self, nbr, weight=0):\n",
    "        self.connected_to[nbr]=weight\n",
    "    \n",
    "    def get_id(self):\n",
    "        return self.id\n",
    "    \n",
    "    def get_connections(self):\n",
    "        return list(self.connected_to.keys())\n",
    "    \n",
    "    def __str__(self):\n",
    "        return str(self.id)+' connected to'+ str([key for key in self.connected_to.keys()])\n",
    "        \n",
    "    \n",
    "class Graph:\n",
    "    def __init__(self):\n",
    "        self.vert_list={}\n",
    "    \n",
    "    def add_vertex(self, key):\n",
    "        new_vert = Vertex(key)\n",
    "        self.vert_list[key] = new_vert\n",
    "        return new_vert\n",
    "    \n",
    "    def add_edge(self, source, dest, weight=0):\n",
    "        if source not in self.vert_list:\n",
    "            self.add_vertex(source)\n",
    "        if dest not in self.vert_list:\n",
    "            self.add_vertex(dest)\n",
    "        self.vert_list[source].add_neighbor(dest, weight)\n",
    "        \n",
    "    def get_vertices(self):\n",
    "        return list(self.vert_list.keys())\n",
    "    \n",
    "    def __iter__(self):\n",
    "        return iter(self.vert_list.values())\n",
    "    \n",
    "    def __contains__(self, n):\n",
    "        return n in self.vert_list\n",
    "    \n",
    "    def __str__(self):\n",
    "        return str(self.vert_list)\n",
    "    \n",
    "    \n",
    "    \n",
    "    \n",
    "        "
   ]
  },
  {
   "cell_type": "code",
   "execution_count": 39,
   "metadata": {},
   "outputs": [],
   "source": [
    "g=Graph()"
   ]
  },
  {
   "cell_type": "code",
   "execution_count": 40,
   "metadata": {},
   "outputs": [
    {
     "data": {
      "text/plain": [
       "<__main__.Vertex at 0x107258438>"
      ]
     },
     "execution_count": 40,
     "metadata": {},
     "output_type": "execute_result"
    }
   ],
   "source": [
    "g.add_vertex(3)"
   ]
  },
  {
   "cell_type": "code",
   "execution_count": 46,
   "metadata": {},
   "outputs": [],
   "source": [
    "g.add_edge(0,1,2)"
   ]
  },
  {
   "cell_type": "code",
   "execution_count": 47,
   "metadata": {},
   "outputs": [],
   "source": [
    "g.add_edge(1,2,5)"
   ]
  },
  {
   "cell_type": "code",
   "execution_count": 48,
   "metadata": {},
   "outputs": [
    {
     "data": {
      "text/plain": [
       "[3, 1, 2, 4, 0]"
      ]
     },
     "execution_count": 48,
     "metadata": {},
     "output_type": "execute_result"
    }
   ],
   "source": [
    "g.get_vertices()"
   ]
  },
  {
   "cell_type": "code",
   "execution_count": 49,
   "metadata": {},
   "outputs": [
    {
     "data": {
      "text/plain": [
       "{3: <__main__.Vertex at 0x107258438>,\n",
       " 1: <__main__.Vertex at 0x107086d68>,\n",
       " 2: <__main__.Vertex at 0x107086278>,\n",
       " 4: <__main__.Vertex at 0x106ec8cf8>,\n",
       " 0: <__main__.Vertex at 0x107242278>}"
      ]
     },
     "execution_count": 49,
     "metadata": {},
     "output_type": "execute_result"
    }
   ],
   "source": [
    "g.vert_list"
   ]
  },
  {
   "cell_type": "code",
   "execution_count": 50,
   "metadata": {},
   "outputs": [],
   "source": [
    "g.add_edge(3,4, 10)"
   ]
  },
  {
   "cell_type": "code",
   "execution_count": 52,
   "metadata": {},
   "outputs": [
    {
     "name": "stdout",
     "output_type": "stream",
     "text": [
      "3 connected to[4]\n",
      "connections: [4]\n",
      "1 connected to[2]\n",
      "connections: [2]\n",
      "2 connected to[]\n",
      "connections: []\n",
      "4 connected to[]\n",
      "connections: []\n",
      "0 connected to[1]\n",
      "connections: [1]\n"
     ]
    }
   ],
   "source": [
    "for node in g:\n",
    "    print(node)\n",
    "    print(f\"connections: {node.get_connections()}\")"
   ]
  },
  {
   "cell_type": "code",
   "execution_count": null,
   "metadata": {},
   "outputs": [],
   "source": [
    "                                                                                                                                                                                                                                                                                                                                                                                                                                                                                                                                                                                                                                                                                                                                                                                                                                                                                                           "
   ]
  },
  {
   "cell_type": "code",
   "execution_count": null,
   "metadata": {},
   "outputs": [],
   "source": []
  }
 ],
 "metadata": {
  "kernelspec": {
   "display_name": "Python 3",
   "language": "python",
   "name": "python3"
  },
  "language_info": {
   "codemirror_mode": {
    "name": "ipython",
    "version": 3
   },
   "file_extension": ".py",
   "mimetype": "text/x-python",
   "name": "python",
   "nbconvert_exporter": "python",
   "pygments_lexer": "ipython3",
   "version": "3.7.3"
  }
 },
 "nbformat": 4,
 "nbformat_minor": 2
}
