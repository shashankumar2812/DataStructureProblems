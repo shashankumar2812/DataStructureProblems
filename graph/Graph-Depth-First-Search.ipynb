{
 "cells": [
  {
   "cell_type": "code",
   "execution_count": 1,
   "metadata": {},
   "outputs": [],
   "source": [
    "class Vertex:\n",
    "    def __init__(self, key):\n",
    "        self.id=key\n",
    "        self.connected_to={}\n",
    "        \n",
    "    def add_neighbor(self, nbr, weight=0):\n",
    "        self.connected_to[nbr]=weight\n",
    "    \n",
    "    def get_id(self):\n",
    "        return self.id\n",
    "    \n",
    "    def get_connections(self):\n",
    "        return list(self.connected_to.keys())\n",
    "    \n",
    "    def __str__(self):\n",
    "        return str(self.id)+' connected to'+ str([key for key in self.connected_to])\n",
    "        \n",
    "    \n",
    "class Graph:\n",
    "    def __init__(self):\n",
    "        self.vert_list={}\n",
    "    \n",
    "    def add_vertex(self, key):\n",
    "        new_vert = Vertex(key)\n",
    "        self.vert_list[key] = new_vert\n",
    "        return new_vert\n",
    "    \n",
    "    def get_vertex(self, key):\n",
    "        if key in self.vert_list: \n",
    "            return self.vert_list[key]\n",
    "        else:\n",
    "            return KeyError(f\"Vertex {key} is not not present in the Graph\")\n",
    "    \n",
    "    def add_edge(self, source, dest, weight=0):\n",
    "        if source not in self.vert_list:\n",
    "            self.add_vertex(source)\n",
    "        if dest not in self.vert_list:\n",
    "            self.add_vertex(dest)\n",
    "        self.vert_list[source].add_neighbor(dest, weight)\n",
    "        \n",
    "    def get_vertices(self):\n",
    "        return list(self.vert_list.keys())\n",
    "    \n",
    "    def __iter__(self):\n",
    "        return iter(self.vert_list.values())\n",
    "    \n",
    "    def __contains__(self, n):\n",
    "        return n in self.vert_list\n",
    "    \n",
    "    def __str__(self):\n",
    "        return str(self.vert_list)   \n",
    "\n",
    "# Creating the graph\n",
    "\n",
    "g=Graph()\n",
    "\n",
    "g.add_edge('A','B')\n",
    "g.add_edge('A','C')\n",
    "g.add_edge('B','A')\n",
    "g.add_edge('B','D')\n",
    "g.add_edge('B','E')\n",
    "g.add_edge('C','A')\n",
    "g.add_edge('C','F')\n",
    "g.add_edge('D','B')\n",
    "g.add_edge('E','B')\n",
    "g.add_edge('E','F')\n",
    "g.add_edge('F','C')\n",
    "g.add_edge('F','E')"
   ]
  },
  {
   "cell_type": "code",
   "execution_count": 2,
   "metadata": {},
   "outputs": [
    {
     "data": {
      "text/plain": [
       "{'A', 'B', 'C', 'D', 'E', 'F'}"
      ]
     },
     "execution_count": 2,
     "metadata": {},
     "output_type": "execute_result"
    }
   ],
   "source": [
    "def dfs(graph, start):\n",
    "    visited=set()\n",
    "    stack=[start]\n",
    "    while(stack):\n",
    "        vertex=stack.pop()\n",
    "        if vertex not in visited:\n",
    "            visited.add(vertex)\n",
    "            stack.extend(set(graph.get_vertex(vertex).get_connections())-visited)\n",
    "    return visited\n",
    "dfs(g,'A')  "
   ]
  },
  {
   "cell_type": "code",
   "execution_count": 3,
   "metadata": {},
   "outputs": [
    {
     "data": {
      "text/plain": [
       "[['A', 'B', 'E', 'F'], ['A', 'C', 'F']]"
      ]
     },
     "execution_count": 3,
     "metadata": {},
     "output_type": "execute_result"
    }
   ],
   "source": [
    "def dfs_paths(graph, start, goal):\n",
    "    stack = [(start, [start])]\n",
    "    while stack:\n",
    "        (vertex, path) = stack.pop()\n",
    "        for nxt in set(graph.get_vertex(vertex).get_connections()) - set(path):\n",
    "            if nxt == goal:\n",
    "                yield path + [nxt]\n",
    "            else:\n",
    "                stack.append((nxt, path + [nxt]))\n",
    "\n",
    "list(dfs_paths(g, 'A', 'F'))"
   ]
  },
  {
   "cell_type": "code",
   "execution_count": null,
   "metadata": {},
   "outputs": [],
   "source": []
  }
 ],
 "metadata": {
  "kernelspec": {
   "display_name": "Python 3",
   "language": "python",
   "name": "python3"
  },
  "language_info": {
   "codemirror_mode": {
    "name": "ipython",
    "version": 3
   },
   "file_extension": ".py",
   "mimetype": "text/x-python",
   "name": "python",
   "nbconvert_exporter": "python",
   "pygments_lexer": "ipython3",
   "version": "3.7.3"
  }
 },
 "nbformat": 4,
 "nbformat_minor": 2
}
