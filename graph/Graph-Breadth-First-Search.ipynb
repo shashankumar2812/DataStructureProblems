{
 "cells": [
  {
   "cell_type": "code",
   "execution_count": 16,
   "metadata": {},
   "outputs": [
    {
     "data": {
      "text/plain": [
       "['A', 'C', 'F']"
      ]
     },
     "execution_count": 16,
     "metadata": {},
     "output_type": "execute_result"
    }
   ],
   "source": [
    "class Vertex:\n",
    "    def __init__(self, key):\n",
    "        self.id=key\n",
    "        self.connected_to={}\n",
    "        \n",
    "    def add_neighbor(self, nbr, weight=0):\n",
    "        self.connected_to[nbr]=weight\n",
    "    \n",
    "    def get_id(self):\n",
    "        return self.id\n",
    "    \n",
    "    def get_connections(self):\n",
    "        return list(self.connected_to.keys())\n",
    "    \n",
    "    def __str__(self):\n",
    "        return str(self.id)+' connected to'+ str([key for key in self.connected_to])\n",
    "        \n",
    "    \n",
    "class Graph:\n",
    "    def __init__(self):\n",
    "        self.vert_list={}\n",
    "    \n",
    "    def add_vertex(self, key):\n",
    "        new_vert = Vertex(key)\n",
    "        self.vert_list[key] = new_vert\n",
    "        return new_vert\n",
    "    \n",
    "    def get_vertex(self, key):\n",
    "        if key in self.vert_list: \n",
    "            return self.vert_list[key]\n",
    "        else:\n",
    "            return KeyError(f\"Vertex {key} is not not present in the Graph\")\n",
    "    \n",
    "    def add_edge(self, source, dest, weight=0):\n",
    "        if source not in self.vert_list:\n",
    "            self.add_vertex(source)\n",
    "        if dest not in self.vert_list:\n",
    "            self.add_vertex(dest)\n",
    "        self.vert_list[source].add_neighbor(dest, weight)\n",
    "        \n",
    "    def get_vertices(self):\n",
    "        return list(self.vert_list.keys())\n",
    "    \n",
    "    def __iter__(self):\n",
    "        return iter(self.vert_list.values())\n",
    "    \n",
    "    def __contains__(self, n):\n",
    "        return n in self.vert_list\n",
    "    \n",
    "    def __str__(self):\n",
    "        return str(self.vert_list)   \n",
    "\n",
    "# Creating the graph\n",
    "\n",
    "g=Graph()\n",
    "\n",
    "g.add_edge('A','B')\n",
    "g.add_edge('A','C')\n",
    "g.add_edge('B','A')\n",
    "g.add_edge('B','D')\n",
    "g.add_edge('B','E')\n",
    "g.add_edge('C','A')\n",
    "g.add_edge('C','F')\n",
    "g.add_edge('D','B')\n",
    "g.add_edge('E','B')\n",
    "g.add_edge('E','F')\n",
    "g.add_edge('F','C')\n",
    "g.add_edge('F','E')\n",
    "\n",
    "\n",
    "def bfs(graph, start, end):\n",
    "    if not start: return -1\n",
    "    if not end: return -1\n",
    "    if start==end: return True\n",
    "    visited=set()\n",
    "    queue=[start]\n",
    "    while(queue):\n",
    "        vertex=queue.pop(0)\n",
    "        if vertex not in visited:\n",
    "            visited.add(vertex)\n",
    "            queue.extend(set(graph.get_vertex(vertex).get_connections())-visited)\n",
    "    return visited\n",
    "\n",
    "def bfs_paths(graph,start, dest):\n",
    "    visited=set()\n",
    "    queue=[(start, [start])]\n",
    "    while(queue):\n",
    "        (vertex, path)=queue.pop(0)\n",
    "        for vertex in (set(graph.get_vertex(vertex).get_connections())-set(path)):\n",
    "            if vertex==dest:\n",
    "                yield path + [vertex]\n",
    "            else:\n",
    "                queue.append((vertex, path+[vertex]))   \n",
    "\n",
    "def shortest_path(graph, start, goal):\n",
    "    try:\n",
    "        return next(bfs_paths(graph, start, goal))\n",
    "    except StopIteration:\n",
    "        return None\n",
    "\n",
    "shortest_path(g, 'A', 'F')"
   ]
  },
  {
   "cell_type": "code",
   "execution_count": 17,
   "metadata": {},
   "outputs": [
    {
     "data": {
      "text/plain": [
       "{'A', 'B', 'C', 'D', 'E', 'F'}"
      ]
     },
     "execution_count": 17,
     "metadata": {},
     "output_type": "execute_result"
    }
   ],
   "source": [
    "bfs(g, 'A', 'F')"
   ]
  },
  {
   "cell_type": "code",
   "execution_count": 18,
   "metadata": {},
   "outputs": [
    {
     "data": {
      "text/plain": [
       "[['A', 'C', 'F'], ['A', 'B', 'E', 'F']]"
      ]
     },
     "execution_count": 18,
     "metadata": {},
     "output_type": "execute_result"
    }
   ],
   "source": [
    "list(bfs_paths(g, 'A', 'F'))"
   ]
  },
  {
   "cell_type": "code",
   "execution_count": null,
   "metadata": {},
   "outputs": [],
   "source": []
  },
  {
   "cell_type": "code",
   "execution_count": null,
   "metadata": {},
   "outputs": [],
   "source": []
  }
 ],
 "metadata": {
  "kernelspec": {
   "display_name": "Python 3",
   "language": "python",
   "name": "python3"
  },
  "language_info": {
   "codemirror_mode": {
    "name": "ipython",
    "version": 3
   },
   "file_extension": ".py",
   "mimetype": "text/x-python",
   "name": "python",
   "nbconvert_exporter": "python",
   "pygments_lexer": "ipython3",
   "version": "3.7.3"
  }
 },
 "nbformat": 4,
 "nbformat_minor": 2
}
