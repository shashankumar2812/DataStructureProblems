{
 "cells": [
  {
   "cell_type": "code",
   "execution_count": 9,
   "metadata": {},
   "outputs": [],
   "source": [
    "class BinaryTree(object):\n",
    "    def __init__(self, root):\n",
    "        self.key=root\n",
    "        self.left_child=None\n",
    "        self.right_child=None\n",
    "    \n",
    "    def insert_left(self,obj):\n",
    "        if not self.left_child:\n",
    "            self.left_child = BinaryTree(obj)\n",
    "        else:\n",
    "            temp = BinaryTree(obj)\n",
    "            temp.left_child = self.left_child\n",
    "            self.left_child = temp\n",
    "            \n",
    "    def insert_right(self,obj):\n",
    "        if not self.right_child:\n",
    "            self.right_child = BinaryTree(obj)\n",
    "        else:\n",
    "            temp = BinaryTree(obj)\n",
    "            temp.right_child = self.right_child\n",
    "            self.right_child = temp\n",
    "    \n",
    "    def get_root_val(self):\n",
    "        return self.key\n",
    "    def set_root_val(self, obj):\n",
    "        self.key = obj\n",
    "    \n",
    "    def get_left_child(self):\n",
    "        return self.left_child\n",
    "        \n",
    "    def get_right_child(self):\n",
    "        return self.right_child     "
   ]
  },
  {
   "cell_type": "code",
   "execution_count": 16,
   "metadata": {},
   "outputs": [
    {
     "name": "stdout",
     "output_type": "stream",
     "text": [
      "1\n",
      "None\n",
      "<__main__.BinaryTree object at 0x104a43cc0>\n",
      "2\n",
      "<__main__.BinaryTree object at 0x104a43be0>\n",
      "3\n",
      "4\n"
     ]
    }
   ],
   "source": [
    "r = BinaryTree(1)\n",
    "print(r.get_root_val())\n",
    "print(r.get_left_child())\n",
    "r.insert_left(2)\n",
    "print(r.get_left_child())\n",
    "print(r.get_left_child().get_root_val())\n",
    "r.insert_right(3)\n",
    "print(r.get_right_child())\n",
    "print(r.get_right_child().get_root_val())\n",
    "r.get_right_child().set_root_val(4)\n",
    "print(r.get_right_child().get_root_val())"
   ]
  },
  {
   "cell_type": "markdown",
   "metadata": {},
   "source": [
    "# Preorder Traversal\n",
    "\n",
    "root -> left child -> right child"
   ]
  },
  {
   "cell_type": "code",
   "execution_count": 20,
   "metadata": {},
   "outputs": [
    {
     "name": "stdout",
     "output_type": "stream",
     "text": [
      "1\n",
      "2\n",
      "4\n"
     ]
    }
   ],
   "source": [
    "def preorder(tree):\n",
    "    if tree:\n",
    "        print(tree.get_root_val())\n",
    "        preorder(tree.get_left_child())\n",
    "        preorder(tree.get_right_child())\n",
    "        \n",
    "        \n",
    "preorder(r)"
   ]
  },
  {
   "cell_type": "markdown",
   "metadata": {},
   "source": [
    "# Inorder Traversal\n",
    "left child -> root -> right child"
   ]
  },
  {
   "cell_type": "code",
   "execution_count": 25,
   "metadata": {},
   "outputs": [
    {
     "name": "stdout",
     "output_type": "stream",
     "text": [
      "2\n",
      "1\n",
      "4\n"
     ]
    }
   ],
   "source": [
    "def inorder(tree):\n",
    "    if tree:\n",
    "        inorder(tree.get_left_child())\n",
    "        print(tree.get_root_val())\n",
    "        inorder(tree.get_right_child())\n",
    "        \n",
    "inorder (r)  "
   ]
  },
  {
   "cell_type": "markdown",
   "metadata": {},
   "source": [
    "# Postorder Traversal\n",
    "left child -> right child -> root"
   ]
  },
  {
   "cell_type": "code",
   "execution_count": 26,
   "metadata": {},
   "outputs": [],
   "source": [
    "def postorder(tree):\n",
    "    if tree:\n",
    "        postorder(tree.get_left_child())\n",
    "        postorder(tree.get_right_child())\n",
    "        print(tree.get_root_val())"
   ]
  },
  {
   "cell_type": "code",
   "execution_count": 27,
   "metadata": {},
   "outputs": [
    {
     "name": "stdout",
     "output_type": "stream",
     "text": [
      "2\n",
      "4\n",
      "1\n"
     ]
    }
   ],
   "source": [
    "postorder(r)"
   ]
  },
  {
   "cell_type": "code",
   "execution_count": null,
   "metadata": {},
   "outputs": [],
   "source": []
  }
 ],
 "metadata": {
  "kernelspec": {
   "display_name": "Python 3",
   "language": "python",
   "name": "python3"
  },
  "language_info": {
   "codemirror_mode": {
    "name": "ipython",
    "version": 3
   },
   "file_extension": ".py",
   "mimetype": "text/x-python",
   "name": "python",
   "nbconvert_exporter": "python",
   "pygments_lexer": "ipython3",
   "version": "3.7.3"
  }
 },
 "nbformat": 4,
 "nbformat_minor": 2
}
